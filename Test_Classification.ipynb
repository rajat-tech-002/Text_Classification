{
  "nbformat": 4,
  "nbformat_minor": 0,
  "metadata": {
    "colab": {
      "name": "Text+Classification+using+python,+scikit+and+nltk.ipynb",
      "version": "0.3.2",
      "provenance": [],
      "collapsed_sections": [],
      "toc_visible": true
    },
    "kernelspec": {
      "name": "python3",
      "display_name": "Python 3"
    },
    "accelerator": "GPU"
  },
  "cells": [
    {
      "metadata": {
        "id": "xjwziehoviq3",
        "colab_type": "code",
        "outputId": "0bbf7ca7-8fb9-49b3-e58c-c7faca87f88e",
        "colab": {
          "base_uri": "https://localhost:8080/",
          "height": 51
        }
      },
      "cell_type": "code",
      "source": [
        "%matplotlib inline\n",
        "import pandas as pd\n",
        "import numpy as np\n",
        "\n",
        "from sklearn.model_selection import cross_val_predict\n",
        "from sklearn.model_selection import StratifiedKFold\n",
        "from sklearn.model_selection import train_test_split\n",
        "from sklearn.linear_model import LogisticRegression\n",
        "from sklearn.metrics import log_loss, accuracy_score\n",
        "from sklearn.feature_extraction.text import CountVectorizer\n",
        "from sklearn.feature_extraction.text import TfidfVectorizer\n",
        "from sklearn.svm import SVC\n",
        "from sklearn.decomposition import TruncatedSVD\n",
        "from sklearn.ensemble import RandomForestClassifier\n",
        "from sklearn.preprocessing import LabelEncoder\n",
        "\n",
        "import gensim\n",
        "\n",
        "#import scikitplot.plotters as skplt\n",
        "\n",
        "import nltk\n",
        "\n",
        "from xgboost import XGBClassifier\n",
        "\n",
        "import os\n",
        "\n",
        "from keras.preprocessing.text import Tokenizer\n",
        "from keras.preprocessing.sequence import pad_sequences\n",
        "from keras.models import Sequential\n",
        "from keras.layers import Dense, Embedding, LSTM\n",
        "from keras.utils.np_utils import to_categorical\n",
        "from keras.callbacks import ModelCheckpoint\n",
        "from keras.models import load_model\n",
        "from keras.optimizers import Adam"
      ],
      "execution_count": 1,
      "outputs": [
        {
          "output_type": "stream",
          "text": [
            "paramiko missing, opening SSH/SCP/SFTP paths will be disabled.  `pip install paramiko` to suppress\n",
            "Using TensorFlow backend.\n"
          ],
          "name": "stderr"
        }
      ]
    },
    {
      "metadata": {
        "id": "9rIznzWtVC7v",
        "colab_type": "text"
      },
      "cell_type": "markdown",
      "source": [
        "# Text Classification Using SVM\n",
        "### DATA MINING"
      ]
    },
    {
      "metadata": {
        "id": "WBM3JetkVC7x",
        "colab_type": "text"
      },
      "cell_type": "markdown",
      "source": [
        "# Loading the Dataset"
      ]
    },
    {
      "metadata": {
        "id": "zAEpuxMXVC7y",
        "colab_type": "code",
        "colab": {}
      },
      "cell_type": "code",
      "source": [
        "#Loading the data set - training data.\n",
        "from sklearn.datasets import fetch_20newsgroups\n",
        "train = fetch_20newsgroups(subset='train', shuffle=True)\n",
        "test=fetch_20newsgroups(subset='test', shuffle=True)\n",
        "all=fetch_20newsgroups(subset='all', shuffle=True)"
      ],
      "execution_count": 0,
      "outputs": []
    },
    {
      "metadata": {
        "id": "u2qlNh8CVC72",
        "colab_type": "text"
      },
      "cell_type": "markdown",
      "source": [
        "# Visualize Dataset"
      ]
    },
    {
      "metadata": {
        "id": "nnW1Jz24VC73",
        "colab_type": "code",
        "outputId": "a4e3be87-03d5-4db7-87c9-834cb0afa1c5",
        "colab": {
          "base_uri": "https://localhost:8080/",
          "height": 391
        }
      },
      "cell_type": "code",
      "source": [
        "print(\"\\n\".join(train.data[1].split(\"\\n\")))\n",
        "print(train.target[1])"
      ],
      "execution_count": 3,
      "outputs": [
        {
          "output_type": "stream",
          "text": [
            "From: guykuo@carson.u.washington.edu (Guy Kuo)\n",
            "Subject: SI Clock Poll - Final Call\n",
            "Summary: Final call for SI clock reports\n",
            "Keywords: SI,acceleration,clock,upgrade\n",
            "Article-I.D.: shelley.1qvfo9INNc3s\n",
            "Organization: University of Washington\n",
            "Lines: 11\n",
            "NNTP-Posting-Host: carson.u.washington.edu\n",
            "\n",
            "A fair number of brave souls who upgraded their SI clock oscillator have\n",
            "shared their experiences for this poll. Please send a brief message detailing\n",
            "your experiences with the procedure. Top speed attained, CPU rated speed,\n",
            "add on cards and adapters, heat sinks, hour of usage per day, floppy disk\n",
            "functionality with 800 and 1.4 m floppies are especially requested.\n",
            "\n",
            "I will be summarizing in the next two days, so please add to the network\n",
            "knowledge base if you have done the clock upgrade and haven't answered this\n",
            "poll. Thanks.\n",
            "\n",
            "Guy Kuo <guykuo@u.washington.edu>\n",
            "\n",
            "4\n"
          ],
          "name": "stdout"
        }
      ]
    },
    {
      "metadata": {
        "id": "4I5IqLI2NEvR",
        "colab_type": "code",
        "outputId": "869ee4dd-6cd1-4d83-8424-0db18d042d51",
        "colab": {
          "base_uri": "https://localhost:8080/",
          "height": 51
        }
      },
      "cell_type": "code",
      "source": [
        "print(len(train.data))\n",
        "print(len(test.data))"
      ],
      "execution_count": 4,
      "outputs": [
        {
          "output_type": "stream",
          "text": [
            "11314\n",
            "7532\n"
          ],
          "name": "stdout"
        }
      ]
    },
    {
      "metadata": {
        "id": "jr17H-pHVC7-",
        "colab_type": "code",
        "outputId": "166b636d-94b1-48d5-a044-2ede351a4629",
        "colab": {
          "base_uri": "https://localhost:8080/",
          "height": 323
        }
      },
      "cell_type": "code",
      "source": [
        "print(\"\\n\".join(test.data[0].split(\"\\n\")))"
      ],
      "execution_count": 5,
      "outputs": [
        {
          "output_type": "stream",
          "text": [
            "From: v064mb9k@ubvmsd.cc.buffalo.edu (NEIL B. GANDLER)\n",
            "Subject: Need info on 88-89 Bonneville\n",
            "Organization: University at Buffalo\n",
            "Lines: 10\n",
            "News-Software: VAX/VMS VNEWS 1.41\n",
            "Nntp-Posting-Host: ubvmsd.cc.buffalo.edu\n",
            "\n",
            "\n",
            " I am a little confused on all of the models of the 88-89 bonnevilles.\n",
            "I have heard of the LE SE LSE SSE SSEI. Could someone tell me the\n",
            "differences are far as features or performance. I am also curious to\n",
            "know what the book value is for prefereably the 89 model. And how much\n",
            "less than book value can you usually get them for. In other words how\n",
            "much are they in demand this time of year. I have heard that the mid-spring\n",
            "early summer is the best time to buy.\n",
            "\n",
            "\t\t\tNeil Gandler\n",
            "\n"
          ],
          "name": "stdout"
        }
      ]
    },
    {
      "metadata": {
        "id": "1UShBYmqVC8C",
        "colab_type": "code",
        "outputId": "a0d681ed-d627-4f79-afdb-5181cff46a8f",
        "colab": {
          "base_uri": "https://localhost:8080/",
          "height": 34
        }
      },
      "cell_type": "code",
      "source": [
        "test.target[0:5]"
      ],
      "execution_count": 6,
      "outputs": [
        {
          "output_type": "execute_result",
          "data": {
            "text/plain": [
              "array([ 7,  5,  0, 17, 19])"
            ]
          },
          "metadata": {
            "tags": []
          },
          "execution_count": 6
        }
      ]
    },
    {
      "metadata": {
        "id": "gvVPGB7NVC8I",
        "colab_type": "code",
        "outputId": "98b8c373-46db-4220-949f-8cb49ecec27a",
        "colab": {
          "base_uri": "https://localhost:8080/",
          "height": 57
        }
      },
      "cell_type": "code",
      "source": [
        "train.data[0]"
      ],
      "execution_count": 7,
      "outputs": [
        {
          "output_type": "execute_result",
          "data": {
            "text/plain": [
              "\"From: lerxst@wam.umd.edu (where's my thing)\\nSubject: WHAT car is this!?\\nNntp-Posting-Host: rac3.wam.umd.edu\\nOrganization: University of Maryland, College Park\\nLines: 15\\n\\n I was wondering if anyone out there could enlighten me on this car I saw\\nthe other day. It was a 2-door sports car, looked to be from the late 60s/\\nearly 70s. It was called a Bricklin. The doors were really small. In addition,\\nthe front bumper was separate from the rest of the body. This is \\nall I know. If anyone can tellme a model name, engine specs, years\\nof production, where this car is made, history, or whatever info you\\nhave on this funky looking car, please e-mail.\\n\\nThanks,\\n- IL\\n   ---- brought to you by your neighborhood Lerxst ----\\n\\n\\n\\n\\n\""
            ]
          },
          "metadata": {
            "tags": []
          },
          "execution_count": 7
        }
      ]
    },
    {
      "metadata": {
        "id": "t5hceMDwVC8e",
        "colab_type": "code",
        "outputId": "f9e08921-af87-494b-eb45-492395947b36",
        "colab": {
          "base_uri": "https://localhost:8080/",
          "height": 357
        }
      },
      "cell_type": "code",
      "source": [
        "# You can check the target names (categories) and some data files by following commands.\n",
        "train.target_names #prints all the categories"
      ],
      "execution_count": 8,
      "outputs": [
        {
          "output_type": "execute_result",
          "data": {
            "text/plain": [
              "['alt.atheism',\n",
              " 'comp.graphics',\n",
              " 'comp.os.ms-windows.misc',\n",
              " 'comp.sys.ibm.pc.hardware',\n",
              " 'comp.sys.mac.hardware',\n",
              " 'comp.windows.x',\n",
              " 'misc.forsale',\n",
              " 'rec.autos',\n",
              " 'rec.motorcycles',\n",
              " 'rec.sport.baseball',\n",
              " 'rec.sport.hockey',\n",
              " 'sci.crypt',\n",
              " 'sci.electronics',\n",
              " 'sci.med',\n",
              " 'sci.space',\n",
              " 'soc.religion.christian',\n",
              " 'talk.politics.guns',\n",
              " 'talk.politics.mideast',\n",
              " 'talk.politics.misc',\n",
              " 'talk.religion.misc']"
            ]
          },
          "metadata": {
            "tags": []
          },
          "execution_count": 8
        }
      ]
    },
    {
      "metadata": {
        "id": "3x0FtomCVC8i",
        "colab_type": "code",
        "outputId": "2f3f5a79-8e93-4826-c206-0862ba20309a",
        "colab": {
          "base_uri": "https://localhost:8080/",
          "height": 57
        }
      },
      "cell_type": "code",
      "source": [
        "print(train.data[0].split())"
      ],
      "execution_count": 9,
      "outputs": [
        {
          "output_type": "stream",
          "text": [
            "['From:', 'lerxst@wam.umd.edu', \"(where's\", 'my', 'thing)', 'Subject:', 'WHAT', 'car', 'is', 'this!?', 'Nntp-Posting-Host:', 'rac3.wam.umd.edu', 'Organization:', 'University', 'of', 'Maryland,', 'College', 'Park', 'Lines:', '15', 'I', 'was', 'wondering', 'if', 'anyone', 'out', 'there', 'could', 'enlighten', 'me', 'on', 'this', 'car', 'I', 'saw', 'the', 'other', 'day.', 'It', 'was', 'a', '2-door', 'sports', 'car,', 'looked', 'to', 'be', 'from', 'the', 'late', '60s/', 'early', '70s.', 'It', 'was', 'called', 'a', 'Bricklin.', 'The', 'doors', 'were', 'really', 'small.', 'In', 'addition,', 'the', 'front', 'bumper', 'was', 'separate', 'from', 'the', 'rest', 'of', 'the', 'body.', 'This', 'is', 'all', 'I', 'know.', 'If', 'anyone', 'can', 'tellme', 'a', 'model', 'name,', 'engine', 'specs,', 'years', 'of', 'production,', 'where', 'this', 'car', 'is', 'made,', 'history,', 'or', 'whatever', 'info', 'you', 'have', 'on', 'this', 'funky', 'looking', 'car,', 'please', 'e-mail.', 'Thanks,', '-', 'IL', '----', 'brought', 'to', 'you', 'by', 'your', 'neighborhood', 'Lerxst', '----']\n"
          ],
          "name": "stdout"
        }
      ]
    },
    {
      "metadata": {
        "id": "-3vWG3FXOwOY",
        "colab_type": "code",
        "colab": {}
      },
      "cell_type": "code",
      "source": [
        "import re\n",
        "import nltk\n",
        "from nltk.corpus import stopwords"
      ],
      "execution_count": 0,
      "outputs": []
    },
    {
      "metadata": {
        "id": "yiRCnPTpVC8n",
        "colab_type": "code",
        "colab": {}
      },
      "cell_type": "code",
      "source": [
        "def clean_news(raw_news):\n",
        "    letters_only = re.sub(\"[^a-zA-Z]\", \" \",raw_news) \n",
        "    words = letters_only.lower().split()                             \n",
        "    stops = set(stopwords.words(\"english\"))                  \n",
        "    meaningful_words = [w for w in words if not w in stops] \n",
        "    return(\" \".join( meaningful_words ))"
      ],
      "execution_count": 0,
      "outputs": []
    },
    {
      "metadata": {
        "id": "hvzb9m4JO_Bw",
        "colab_type": "code",
        "outputId": "64f42bd7-8d94-47c7-a91e-f82ea79addc0",
        "colab": {
          "base_uri": "https://localhost:8080/",
          "height": 68
        }
      },
      "cell_type": "code",
      "source": [
        "  >>> import nltk\n",
        "  >>> nltk.download('stopwords')"
      ],
      "execution_count": 12,
      "outputs": [
        {
          "output_type": "stream",
          "text": [
            "[nltk_data] Downloading package stopwords to /root/nltk_data...\n",
            "[nltk_data]   Package stopwords is already up-to-date!\n"
          ],
          "name": "stdout"
        },
        {
          "output_type": "execute_result",
          "data": {
            "text/plain": [
              "True"
            ]
          },
          "metadata": {
            "tags": []
          },
          "execution_count": 12
        }
      ]
    },
    {
      "metadata": {
        "id": "KwKZD8enQZBQ",
        "colab_type": "code",
        "outputId": "e165e969-e5b1-4245-9cba-3ca8470b3cba",
        "colab": {
          "base_uri": "https://localhost:8080/",
          "height": 34
        }
      },
      "cell_type": "code",
      "source": [
        "train_cleaned=[]\n",
        "test_cleaned=[]\n",
        "for i in range(len(train.data)):\n",
        "  temp=clean_news(train.data[i])\n",
        "  train_cleaned.append(temp)\n",
        "\n",
        "for i in range(len(test.data)):\n",
        "  temp=clean_news(test.data[i])\n",
        "  test_cleaned.append(temp)  \n",
        "  \n",
        "  \n",
        "print(len(train_cleaned),len(test_cleaned))  "
      ],
      "execution_count": 13,
      "outputs": [
        {
          "output_type": "stream",
          "text": [
            "11314 7532\n"
          ],
          "name": "stdout"
        }
      ]
    },
    {
      "metadata": {
        "id": "KgCUyVUoth1R",
        "colab_type": "code",
        "colab": {}
      },
      "cell_type": "code",
      "source": [
        "total_news_cleaned=train_cleaned+test_cleaned"
      ],
      "execution_count": 0,
      "outputs": []
    },
    {
      "metadata": {
        "id": "UJwBoan6xFI1",
        "colab_type": "code",
        "outputId": "a7201117-89c0-4d68-c982-7f415f28a8eb",
        "colab": {
          "base_uri": "https://localhost:8080/",
          "height": 57
        }
      },
      "cell_type": "code",
      "source": [
        "total_news_cleaned[0]"
      ],
      "execution_count": 15,
      "outputs": [
        {
          "output_type": "execute_result",
          "data": {
            "text/plain": [
              "'lerxst wam umd edu thing subject car nntp posting host rac wam umd edu organization university maryland college park lines wondering anyone could enlighten car saw day door sports car looked late early called bricklin doors really small addition front bumper separate rest body know anyone tellme model name engine specs years production car made history whatever info funky looking car please e mail thanks il brought neighborhood lerxst'"
            ]
          },
          "metadata": {
            "tags": []
          },
          "execution_count": 15
        }
      ]
    },
    {
      "metadata": {
        "id": "ihDp2sCLRSVB",
        "colab_type": "code",
        "outputId": "3f005a5f-bb2c-4caa-eb3f-9943651ecb32",
        "colab": {
          "base_uri": "https://localhost:8080/",
          "height": 57
        }
      },
      "cell_type": "code",
      "source": [
        "train_cleaned[0]"
      ],
      "execution_count": 16,
      "outputs": [
        {
          "output_type": "execute_result",
          "data": {
            "text/plain": [
              "'lerxst wam umd edu thing subject car nntp posting host rac wam umd edu organization university maryland college park lines wondering anyone could enlighten car saw day door sports car looked late early called bricklin doors really small addition front bumper separate rest body know anyone tellme model name engine specs years production car made history whatever info funky looking car please e mail thanks il brought neighborhood lerxst'"
            ]
          },
          "metadata": {
            "tags": []
          },
          "execution_count": 16
        }
      ]
    },
    {
      "metadata": {
        "id": "eBMkefA_AP0L",
        "colab_type": "text"
      },
      "cell_type": "markdown",
      "source": [
        "# TFIDF + Naive Bayes Without Data Cleaning"
      ]
    },
    {
      "metadata": {
        "id": "aAEiDv5C_hbx",
        "colab_type": "code",
        "outputId": "029a58ac-621d-4a19-9ccd-27da0781bda2",
        "colab": {
          "base_uri": "https://localhost:8080/",
          "height": 34
        }
      },
      "cell_type": "code",
      "source": [
        "from sklearn.feature_extraction.text import TfidfVectorizer\n",
        "newsgroups_train = fetch_20newsgroups(subset='train')\n",
        "vectorizer = TfidfVectorizer()\n",
        "vectors = vectorizer.fit_transform(newsgroups_train.data)\n",
        "vectors.shape"
      ],
      "execution_count": 20,
      "outputs": [
        {
          "output_type": "execute_result",
          "data": {
            "text/plain": [
              "(11314, 130107)"
            ]
          },
          "metadata": {
            "tags": []
          },
          "execution_count": 20
        }
      ]
    },
    {
      "metadata": {
        "id": "cVho7AOW_Pc-",
        "colab_type": "code",
        "outputId": "9e104aee-efbc-4162-d356-ba04f29d02b2",
        "colab": {
          "base_uri": "https://localhost:8080/",
          "height": 510
        }
      },
      "cell_type": "code",
      "source": [
        "from sklearn.naive_bayes import MultinomialNB\n",
        "from sklearn import metrics\n",
        "newsgroups_test = fetch_20newsgroups(subset='test')\n",
        "vectors_test = vectorizer.transform(newsgroups_test.data)\n",
        "clf = MultinomialNB(alpha=.01)\n",
        "clf.fit(vectors, newsgroups_train.target)\n",
        "pred = clf.predict(vectors_test)\n",
        "from sklearn.metrics import classification_report\n",
        "print('accuracy %s' % accuracy_score(pred, test.target),'\\n')\n",
        "print(classification_report(pred,test.target))"
      ],
      "execution_count": 21,
      "outputs": [
        {
          "output_type": "stream",
          "text": [
            "accuracy 0.8352363250132767 \n",
            "\n",
            "              precision    recall  f1-score   support\n",
            "\n",
            "           0       0.78      0.82      0.80       302\n",
            "           1       0.75      0.69      0.72       420\n",
            "           2       0.63      0.74      0.68       334\n",
            "           3       0.75      0.65      0.69       453\n",
            "           4       0.84      0.83      0.83       387\n",
            "           5       0.78      0.84      0.81       364\n",
            "           6       0.78      0.82      0.80       371\n",
            "           7       0.90      0.89      0.90       401\n",
            "           8       0.96      0.93      0.95       410\n",
            "           9       0.94      0.95      0.95       392\n",
            "          10       0.97      0.95      0.96       408\n",
            "          11       0.93      0.89      0.91       418\n",
            "          12       0.77      0.79      0.78       380\n",
            "          13       0.84      0.89      0.86       375\n",
            "          14       0.91      0.87      0.89       414\n",
            "          15       0.95      0.82      0.88       460\n",
            "          16       0.91      0.76      0.83       434\n",
            "          17       0.94      0.97      0.96       366\n",
            "          18       0.64      0.80      0.71       248\n",
            "          19       0.59      0.76      0.67       195\n",
            "\n",
            "   micro avg       0.84      0.84      0.84      7532\n",
            "   macro avg       0.83      0.83      0.83      7532\n",
            "weighted avg       0.84      0.84      0.84      7532\n",
            "\n"
          ],
          "name": "stdout"
        }
      ]
    },
    {
      "metadata": {
        "id": "cnelewjvAXjd",
        "colab_type": "text"
      },
      "cell_type": "markdown",
      "source": [
        "# TF-IDF + Naive Bayes after Data Cleaning"
      ]
    },
    {
      "metadata": {
        "id": "XP8IQ8A0Ae1-",
        "colab_type": "code",
        "outputId": "cf3209dc-0821-4212-d529-655d72773452",
        "colab": {
          "base_uri": "https://localhost:8080/",
          "height": 34
        }
      },
      "cell_type": "code",
      "source": [
        "from sklearn.feature_extraction.text import TfidfVectorizer\n",
        "newsgroups_train = train_cleaned\n",
        "vectorizer = TfidfVectorizer()\n",
        "vectors = vectorizer.fit_transform(newsgroups_train)\n",
        "vectors.shape"
      ],
      "execution_count": 29,
      "outputs": [
        {
          "output_type": "execute_result",
          "data": {
            "text/plain": [
              "(11314, 88868)"
            ]
          },
          "metadata": {
            "tags": []
          },
          "execution_count": 29
        }
      ]
    },
    {
      "metadata": {
        "id": "o2uEKvBsAewU",
        "colab_type": "code",
        "outputId": "42fb8481-190a-4c27-e7fc-b3e1256e6a60",
        "colab": {
          "base_uri": "https://localhost:8080/",
          "height": 493
        }
      },
      "cell_type": "code",
      "source": [
        "from sklearn.naive_bayes import MultinomialNB\n",
        "from sklearn import metrics\n",
        "newsgroups_test = test_cleaned\n",
        "vectors_test = vectorizer.transform(newsgroups_test)\n",
        "clf = MultinomialNB(alpha=.01)\n",
        "clf.fit(vectors, train.target)\n",
        "pred = clf.predict(vectors_test)\n",
        "from sklearn.metrics import classification_report\n",
        "print('accuracy %s' % accuracy_score(pred, test.target))\n",
        "print(classification_report(pred,test.target))"
      ],
      "execution_count": 25,
      "outputs": [
        {
          "output_type": "stream",
          "text": [
            "accuracy 0.8315188528943176\n",
            "              precision    recall  f1-score   support\n",
            "\n",
            "           0       0.79      0.83      0.81       302\n",
            "           1       0.73      0.68      0.70       417\n",
            "           2       0.65      0.71      0.68       362\n",
            "           3       0.73      0.64      0.68       442\n",
            "           4       0.83      0.81      0.82       396\n",
            "           5       0.76      0.83      0.79       362\n",
            "           6       0.78      0.79      0.79       384\n",
            "           7       0.89      0.90      0.90       392\n",
            "           8       0.95      0.92      0.94       414\n",
            "           9       0.94      0.95      0.94       393\n",
            "          10       0.97      0.96      0.96       405\n",
            "          11       0.93      0.89      0.91       415\n",
            "          12       0.75      0.78      0.76       377\n",
            "          13       0.84      0.90      0.87       366\n",
            "          14       0.91      0.88      0.90       407\n",
            "          15       0.95      0.85      0.90       446\n",
            "          16       0.91      0.77      0.83       431\n",
            "          17       0.94      0.97      0.96       367\n",
            "          18       0.64      0.80      0.71       249\n",
            "          19       0.61      0.75      0.68       205\n",
            "\n",
            "   micro avg       0.83      0.83      0.83      7532\n",
            "   macro avg       0.83      0.83      0.83      7532\n",
            "weighted avg       0.84      0.83      0.83      7532\n",
            "\n"
          ],
          "name": "stdout"
        }
      ]
    },
    {
      "metadata": {
        "id": "B6TxvJQkA3Ey",
        "colab_type": "text"
      },
      "cell_type": "markdown",
      "source": [
        "# TFIDF + Decision Tree before Data Cleaning"
      ]
    },
    {
      "metadata": {
        "id": "FZD6rXMbBaqf",
        "colab_type": "code",
        "outputId": "1e20edee-c1dc-4ef1-d2b8-98f944cc0209",
        "colab": {
          "base_uri": "https://localhost:8080/",
          "height": 34
        }
      },
      "cell_type": "code",
      "source": [
        "from sklearn.feature_extraction.text import TfidfVectorizer\n",
        "newsgroups_train = fetch_20newsgroups(subset='train')\n",
        "vectorizer = TfidfVectorizer()\n",
        "vectors = vectorizer.fit_transform(newsgroups_train.data)\n",
        "vectors.shape"
      ],
      "execution_count": 28,
      "outputs": [
        {
          "output_type": "execute_result",
          "data": {
            "text/plain": [
              "(11314, 130107)"
            ]
          },
          "metadata": {
            "tags": []
          },
          "execution_count": 28
        }
      ]
    },
    {
      "metadata": {
        "id": "XxKXMCyhBv18",
        "colab_type": "code",
        "outputId": "32c6ae63-00b0-4154-a9a1-f2444aa08f2c",
        "colab": {
          "base_uri": "https://localhost:8080/",
          "height": 493
        }
      },
      "cell_type": "code",
      "source": [
        "from sklearn.tree import DecisionTreeClassifier \n",
        "newsgroups_test = fetch_20newsgroups(subset='test')\n",
        "#newsgroups_test = test_cleaned\n",
        "vectors_test = vectorizer.transform(newsgroups_test.data)\n",
        "clf=DecisionTreeClassifier(max_depth = 500).fit(vectors, train.target)\n",
        "pred= clf.predict(vectors_test) \n",
        "from sklearn.metrics import classification_report\n",
        "print('accuracy %s' % accuracy_score(pred, test.target))\n",
        "print(classification_report(pred,test.target))\n"
      ],
      "execution_count": 28,
      "outputs": [
        {
          "output_type": "stream",
          "text": [
            "accuracy 0.5509824747742963\n",
            "              precision    recall  f1-score   support\n",
            "\n",
            "           0       0.47      0.47      0.47       314\n",
            "           1       0.44      0.40      0.42       426\n",
            "           2       0.57      0.52      0.54       425\n",
            "           3       0.40      0.44      0.42       354\n",
            "           4       0.55      0.49      0.52       432\n",
            "           5       0.47      0.49      0.48       379\n",
            "           6       0.72      0.66      0.69       424\n",
            "           7       0.57      0.64      0.60       356\n",
            "           8       0.75      0.71      0.73       422\n",
            "           9       0.54      0.55      0.55       391\n",
            "          10       0.67      0.69      0.68       388\n",
            "          11       0.70      0.74      0.72       376\n",
            "          12       0.32      0.33      0.33       382\n",
            "          13       0.44      0.50      0.47       351\n",
            "          14       0.62      0.62      0.62       392\n",
            "          15       0.72      0.69      0.71       419\n",
            "          16       0.62      0.50      0.55       447\n",
            "          17       0.59      0.74      0.66       298\n",
            "          18       0.39      0.42      0.41       288\n",
            "          19       0.33      0.31      0.32       268\n",
            "\n",
            "   micro avg       0.55      0.55      0.55      7532\n",
            "   macro avg       0.54      0.55      0.54      7532\n",
            "weighted avg       0.55      0.55      0.55      7532\n",
            "\n"
          ],
          "name": "stdout"
        }
      ]
    },
    {
      "metadata": {
        "id": "vThX1Gh-dZ2W",
        "colab_type": "text"
      },
      "cell_type": "markdown",
      "source": [
        "# TFIDF + Decicion Tree after Data Cleaning"
      ]
    },
    {
      "metadata": {
        "id": "C_82iXaNZfyA",
        "colab_type": "code",
        "colab": {
          "base_uri": "https://localhost:8080/",
          "height": 493
        },
        "outputId": "e7f33d80-751f-446c-dfb4-dc172bca0ff3"
      },
      "cell_type": "code",
      "source": [
        "from sklearn.feature_extraction.text import TfidfVectorizer\n",
        "newsgroups_train = train_cleaned\n",
        "vectorizer = TfidfVectorizer()\n",
        "vectors = vectorizer.fit_transform(newsgroups_train)\n",
        "vectors.shape\n",
        "from sklearn.tree import DecisionTreeClassifier \n",
        "newsgroups_test = test_cleaned\n",
        "vectors_test = vectorizer.transform(newsgroups_test)\n",
        "clf=DecisionTreeClassifier(max_depth = 500).fit(vectors, train.target)\n",
        "pred= clf.predict(vectors_test) \n",
        "from sklearn.metrics import classification_report\n",
        "print('accuracy %s' % accuracy_score(pred, test.target))\n",
        "print(classification_report(pred,test.target))\n",
        "\n"
      ],
      "execution_count": 19,
      "outputs": [
        {
          "output_type": "stream",
          "text": [
            "accuracy 0.5751460435475305\n",
            "              precision    recall  f1-score   support\n",
            "\n",
            "           0       0.47      0.47      0.47       315\n",
            "           1       0.48      0.43      0.45       433\n",
            "           2       0.56      0.56      0.56       394\n",
            "           3       0.45      0.41      0.43       424\n",
            "           4       0.54      0.49      0.51       421\n",
            "           5       0.55      0.57      0.56       383\n",
            "           6       0.66      0.68      0.67       380\n",
            "           7       0.60      0.55      0.57       431\n",
            "           8       0.79      0.76      0.78       414\n",
            "           9       0.61      0.62      0.61       394\n",
            "          10       0.74      0.73      0.74       402\n",
            "          11       0.69      0.73      0.71       376\n",
            "          12       0.37      0.39      0.38       370\n",
            "          13       0.51      0.55      0.53       363\n",
            "          14       0.63      0.71      0.67       351\n",
            "          15       0.73      0.74      0.74       391\n",
            "          16       0.67      0.53      0.59       456\n",
            "          17       0.62      0.80      0.70       292\n",
            "          18       0.34      0.36      0.35       293\n",
            "          19       0.35      0.36      0.36       249\n",
            "\n",
            "   micro avg       0.58      0.58      0.58      7532\n",
            "   macro avg       0.57      0.57      0.57      7532\n",
            "weighted avg       0.58      0.58      0.57      7532\n",
            "\n"
          ],
          "name": "stdout"
        }
      ]
    },
    {
      "metadata": {
        "id": "XrqG9qQAjebR",
        "colab_type": "text"
      },
      "cell_type": "markdown",
      "source": [
        "# TF-IDF + SVM before data cleaning"
      ]
    },
    {
      "metadata": {
        "id": "wEIA9dCFiJYF",
        "colab_type": "code",
        "colab": {
          "base_uri": "https://localhost:8080/",
          "height": 34
        },
        "outputId": "a1e281ca-266d-4405-d102-f1e8d98ba767"
      },
      "cell_type": "code",
      "source": [
        "from sklearn.feature_extraction.text import TfidfVectorizer\n",
        "newsgroups_train = fetch_20newsgroups(subset='train')\n",
        "vectorizer = TfidfVectorizer()\n",
        "vectors = vectorizer.fit_transform(newsgroups_train.data)\n",
        "vectors.shape"
      ],
      "execution_count": 30,
      "outputs": [
        {
          "output_type": "execute_result",
          "data": {
            "text/plain": [
              "(11314, 130107)"
            ]
          },
          "metadata": {
            "tags": []
          },
          "execution_count": 30
        }
      ]
    },
    {
      "metadata": {
        "id": "BuiWZYWXipM2",
        "colab_type": "code",
        "colab": {
          "base_uri": "https://localhost:8080/",
          "height": 91
        },
        "outputId": "a5489250-a008-447d-c050-445056b1d629"
      },
      "cell_type": "code",
      "source": [
        "from sklearn.pipeline import Pipeline\n",
        "from sklearn.linear_model import SGDClassifier\n",
        "text_clf_svm = Pipeline([('vect', CountVectorizer()), ('tfidf', TfidfTransformer()),\n",
        "                         ('clf-svm', SGDClassifier(loss='hinge', penalty='l2',alpha=1e-3, n_iter=5, random_state=42))])\n",
        "\n",
        "text_clf_svm = text_clf_svm.fit(train.data, train.target)\n",
        "predicted_svm = text_clf_svm.predict(test.data)\n",
        "np.mean(predicted_svm == test.target)\n"
      ],
      "execution_count": 31,
      "outputs": [
        {
          "output_type": "stream",
          "text": [
            "/usr/local/lib/python3.6/dist-packages/sklearn/linear_model/stochastic_gradient.py:152: DeprecationWarning: n_iter parameter is deprecated in 0.19 and will be removed in 0.21. Use max_iter and tol instead.\n",
            "  DeprecationWarning)\n"
          ],
          "name": "stderr"
        },
        {
          "output_type": "execute_result",
          "data": {
            "text/plain": [
              "0.8238183749336165"
            ]
          },
          "metadata": {
            "tags": []
          },
          "execution_count": 31
        }
      ]
    },
    {
      "metadata": {
        "id": "gifta8QPjnsw",
        "colab_type": "text"
      },
      "cell_type": "markdown",
      "source": [
        "# TF-IDF + SVM after data cleaning"
      ]
    },
    {
      "metadata": {
        "id": "wJMCB4Hojlmn",
        "colab_type": "code",
        "colab": {
          "base_uri": "https://localhost:8080/",
          "height": 34
        },
        "outputId": "ec9ffabb-7fa3-4e40-8d7a-2331f9a678ba"
      },
      "cell_type": "code",
      "source": [
        "from sklearn.feature_extraction.text import TfidfVectorizer\n",
        "newsgroups_train = train_cleaned\n",
        "vectorizer = TfidfVectorizer()\n",
        "vectors = vectorizer.fit_transform(newsgroups_train)\n",
        "vectors.shape"
      ],
      "execution_count": 32,
      "outputs": [
        {
          "output_type": "execute_result",
          "data": {
            "text/plain": [
              "(11314, 88868)"
            ]
          },
          "metadata": {
            "tags": []
          },
          "execution_count": 32
        }
      ]
    },
    {
      "metadata": {
        "id": "u7HYoV3jjla2",
        "colab_type": "code",
        "colab": {
          "base_uri": "https://localhost:8080/",
          "height": 91
        },
        "outputId": "e2be1f74-e482-40ed-d574-d3e1380a1e73"
      },
      "cell_type": "code",
      "source": [
        "from sklearn.pipeline import Pipeline\n",
        "from sklearn.linear_model import SGDClassifier\n",
        "text_clf_svm = Pipeline([('vect', CountVectorizer()), ('tfidf', TfidfTransformer()),\n",
        "                         ('clf-svm', SGDClassifier(loss='hinge', penalty='l2',alpha=1e-3, n_iter=5, random_state=42))])\n",
        "\n",
        "text_clf_svm = text_clf_svm.fit(train_cleaned, train.target)\n",
        "predicted_svm = text_clf_svm.predict(test_cleaned)\n",
        "np.mean(predicted_svm == test.target)"
      ],
      "execution_count": 33,
      "outputs": [
        {
          "output_type": "stream",
          "text": [
            "/usr/local/lib/python3.6/dist-packages/sklearn/linear_model/stochastic_gradient.py:152: DeprecationWarning: n_iter parameter is deprecated in 0.19 and will be removed in 0.21. Use max_iter and tol instead.\n",
            "  DeprecationWarning)\n"
          ],
          "name": "stderr"
        },
        {
          "output_type": "execute_result",
          "data": {
            "text/plain": [
              "0.82129580456718"
            ]
          },
          "metadata": {
            "tags": []
          },
          "execution_count": 33
        }
      ]
    },
    {
      "metadata": {
        "id": "XZpCdlwLfYp4",
        "colab_type": "text"
      },
      "cell_type": "markdown",
      "source": [
        "# Now Using Word2Vec"
      ]
    },
    {
      "metadata": {
        "id": "L7KJ6WnNgvvS",
        "colab_type": "code",
        "colab": {}
      },
      "cell_type": "code",
      "source": [
        "def clean_news_w2v(raw_news):\n",
        "    letters_only = re.sub(\"[^a-zA-Z]\", \" \",raw_news) \n",
        "    words = letters_only.lower().split()                             \n",
        "    stops = set(stopwords.words(\"english\"))                  \n",
        "    meaningful_words = [w for w in words if not w in stops] \n",
        "    return(meaningful_words )"
      ],
      "execution_count": 0,
      "outputs": []
    },
    {
      "metadata": {
        "id": "XktnnKeBe7_B",
        "colab_type": "code",
        "colab": {}
      },
      "cell_type": "code",
      "source": [
        "from gensim.models import Word2Vec\n",
        "from matplotlib import pyplot as plt"
      ],
      "execution_count": 0,
      "outputs": []
    },
    {
      "metadata": {
        "id": "sFIh5OAlgKCg",
        "colab_type": "code",
        "colab": {}
      },
      "cell_type": "code",
      "source": [
        "total_cleaned=[]\n",
        "for i in range(len(total_news_cleaned)):\n",
        "  total_cleaned.append(clean_news_w2v(total_news_cleaned[i]))\n",
        "  "
      ],
      "execution_count": 0,
      "outputs": []
    },
    {
      "metadata": {
        "id": "97WnxJnNh7hJ",
        "colab_type": "code",
        "outputId": "28ae2f63-3cb1-4e1a-dc25-c9b546eaa96e",
        "colab": {
          "base_uri": "https://localhost:8080/",
          "height": 1190
        }
      },
      "cell_type": "code",
      "source": [
        "total_cleaned[0]"
      ],
      "execution_count": 20,
      "outputs": [
        {
          "output_type": "execute_result",
          "data": {
            "text/plain": [
              "['lerxst',\n",
              " 'wam',\n",
              " 'umd',\n",
              " 'edu',\n",
              " 'thing',\n",
              " 'subject',\n",
              " 'car',\n",
              " 'nntp',\n",
              " 'posting',\n",
              " 'host',\n",
              " 'rac',\n",
              " 'wam',\n",
              " 'umd',\n",
              " 'edu',\n",
              " 'organization',\n",
              " 'university',\n",
              " 'maryland',\n",
              " 'college',\n",
              " 'park',\n",
              " 'lines',\n",
              " 'wondering',\n",
              " 'anyone',\n",
              " 'could',\n",
              " 'enlighten',\n",
              " 'car',\n",
              " 'saw',\n",
              " 'day',\n",
              " 'door',\n",
              " 'sports',\n",
              " 'car',\n",
              " 'looked',\n",
              " 'late',\n",
              " 'early',\n",
              " 'called',\n",
              " 'bricklin',\n",
              " 'doors',\n",
              " 'really',\n",
              " 'small',\n",
              " 'addition',\n",
              " 'front',\n",
              " 'bumper',\n",
              " 'separate',\n",
              " 'rest',\n",
              " 'body',\n",
              " 'know',\n",
              " 'anyone',\n",
              " 'tellme',\n",
              " 'model',\n",
              " 'name',\n",
              " 'engine',\n",
              " 'specs',\n",
              " 'years',\n",
              " 'production',\n",
              " 'car',\n",
              " 'made',\n",
              " 'history',\n",
              " 'whatever',\n",
              " 'info',\n",
              " 'funky',\n",
              " 'looking',\n",
              " 'car',\n",
              " 'please',\n",
              " 'e',\n",
              " 'mail',\n",
              " 'thanks',\n",
              " 'il',\n",
              " 'brought',\n",
              " 'neighborhood',\n",
              " 'lerxst']"
            ]
          },
          "metadata": {
            "tags": []
          },
          "execution_count": 20
        }
      ]
    },
    {
      "metadata": {
        "id": "AjN7nMOZh_bJ",
        "colab_type": "code",
        "outputId": "6c888752-528e-4fec-c82c-59944c422f56",
        "colab": {
          "base_uri": "https://localhost:8080/",
          "height": 34
        }
      },
      "cell_type": "code",
      "source": [
        "len(total_cleaned)"
      ],
      "execution_count": 21,
      "outputs": [
        {
          "output_type": "execute_result",
          "data": {
            "text/plain": [
              "18846"
            ]
          },
          "metadata": {
            "tags": []
          },
          "execution_count": 21
        }
      ]
    },
    {
      "metadata": {
        "id": "qeMmLk1jlNHA",
        "colab_type": "code",
        "colab": {}
      },
      "cell_type": "code",
      "source": [
        "class MySentences(object):\n",
        "    \"\"\"MySentences is a generator to produce a list of tokenized sentences \n",
        "    \n",
        "    Takes a list of numpy arrays containing documents.\n",
        "    \n",
        "    Args:\n",
        "        arrays: List of arrays, where each element in the array contains a document.\n",
        "    \"\"\"\n",
        "    def __init__(self, *arrays):\n",
        "        self.arrays = arrays\n",
        " \n",
        "    def __iter__(self):\n",
        "        for array in self.arrays:\n",
        "            for document in array:\n",
        "                for sent in nltk.sent_tokenize(document):\n",
        "                    yield nltk.word_tokenize(sent)\n",
        "\n",
        "def get_word2vec(sentences, location):\n",
        "    \"\"\"Returns trained word2vec\n",
        "    \n",
        "    Args:\n",
        "        sentences: iterator for sentences\n",
        "        \n",
        "        location (str): Path to save/load word2vec\n",
        "    \"\"\"\n",
        "    if os.path.exists(location):\n",
        "        print('Found {}'.format(location))\n",
        "        model = gensim.models.Word2Vec.load(location)\n",
        "        return model\n",
        "    \n",
        "    print('{} not found. training model'.format(location))\n",
        "    model = Word2Vec(sentences, size=100, window=5, min_count=5, workers=4)\n",
        "    print('Model done training. Saving to disk')\n",
        "    model.save(location)\n",
        "    return model"
      ],
      "execution_count": 0,
      "outputs": []
    },
    {
      "metadata": {
        "id": "OMSFXcwAtB2x",
        "colab_type": "code",
        "outputId": "4cfc774e-349a-4662-a73b-19eb757d1801",
        "colab": {
          "base_uri": "https://localhost:8080/",
          "height": 68
        }
      },
      "cell_type": "code",
      "source": [
        "\n",
        "import nltk\n",
        "nltk.download('punkt')"
      ],
      "execution_count": 22,
      "outputs": [
        {
          "output_type": "stream",
          "text": [
            "[nltk_data] Downloading package punkt to /root/nltk_data...\n",
            "[nltk_data]   Unzipping tokenizers/punkt.zip.\n"
          ],
          "name": "stdout"
        },
        {
          "output_type": "execute_result",
          "data": {
            "text/plain": [
              "True"
            ]
          },
          "metadata": {
            "tags": []
          },
          "execution_count": 22
        }
      ]
    },
    {
      "metadata": {
        "id": "SXOEKL6xuM44",
        "colab_type": "code",
        "outputId": "eb8b4a34-ae61-4695-c967-f380e7de9721",
        "colab": {
          "base_uri": "https://localhost:8080/",
          "height": 502
        }
      },
      "cell_type": "code",
      "source": [
        "# Logistic Classifier Used"
      ],
      "execution_count": 0,
      "outputs": [
        {
          "output_type": "stream",
          "text": [
            "/usr/local/lib/python3.6/dist-packages/sklearn/model_selection/_split.py:624: FutureWarning: You should specify a value for 'n_splits' instead of relying on the default value. The default value will change from 3 to 5 in version 0.22.\n",
            "  warnings.warn(NSPLIT_WARNING, FutureWarning)\n",
            "[Parallel(n_jobs=-1)]: Using backend LokyBackend with 2 concurrent workers.\n",
            "[Parallel(n_jobs=-1)]: Done   3 out of   3 | elapsed:   14.8s finished\n",
            "/usr/local/lib/python3.6/dist-packages/sklearn/utils/deprecation.py:77: DeprecationWarning: Function plot_confusion_matrix is deprecated; This will be removed in v0.4.0. Please use scikitplot.metrics.plot_confusion_matrix instead.\n",
            "  warnings.warn(msg, category=DeprecationWarning)\n"
          ],
          "name": "stderr"
        },
        {
          "output_type": "stream",
          "text": [
            "Log loss: 1.0687989068945343\n",
            "Accuracy: 0.7068234046314301\n"
          ],
          "name": "stdout"
        },
        {
          "output_type": "stream",
          "text": [
            "/usr/local/lib/python3.6/dist-packages/matplotlib/cbook/__init__.py:424: MatplotlibDeprecationWarning: \n",
            "Passing one of 'on', 'true', 'off', 'false' as a boolean is deprecated; use an actual boolean (True/False) instead.\n",
            "  warn_deprecated(\"2.2\", \"Passing one of 'on', 'true', 'off', 'false' as a \"\n"
          ],
          "name": "stderr"
        },
        {
          "output_type": "display_data",
          "data": {
            "image/png": "[encoded data removed]",
            "text/plain": [
              "<Figure size 432x288 with 2 Axes>"
            ]
          },
          "metadata": {
            "tags": []
          }
        }
      ]
    },
    {
      "metadata": {
        "id": "MGEbrm7vvFDQ",
        "colab_type": "code",
        "outputId": "eef964a1-b69d-43ca-8b96-074e9ef5963c",
        "colab": {
          "base_uri": "https://localhost:8080/",
          "height": 536
        }
      },
      "cell_type": "code",
      "source": [
        "evaluate_features(mean_embedded, train.target,\n",
        "                  RandomForestClassifier(n_estimators=1000, max_depth=15, verbose=1))"
      ],
      "execution_count": 0,
      "outputs": [
        {
          "output_type": "stream",
          "text": [
            "/usr/local/lib/python3.6/dist-packages/sklearn/model_selection/_split.py:624: FutureWarning: You should specify a value for 'n_splits' instead of relying on the default value. The default value will change from 3 to 5 in version 0.22.\n",
            "  warnings.warn(NSPLIT_WARNING, FutureWarning)\n",
            "[Parallel(n_jobs=-1)]: Using backend LokyBackend with 2 concurrent workers.\n",
            "/usr/local/lib/python3.6/dist-packages/sklearn/externals/joblib/externals/loky/process_executor.py:706: UserWarning: A worker stopped while some jobs were given to the executor. This can be caused by a too short worker timeout or by a memory leak.\n",
            "  \"timeout or by a memory leak.\", UserWarning\n",
            "[Parallel(n_jobs=-1)]: Done   3 out of   3 | elapsed:  3.4min finished\n",
            "/usr/local/lib/python3.6/dist-packages/sklearn/utils/deprecation.py:77: DeprecationWarning: Function plot_confusion_matrix is deprecated; This will be removed in v0.4.0. Please use scikitplot.metrics.plot_confusion_matrix instead.\n",
            "  warnings.warn(msg, category=DeprecationWarning)\n"
          ],
          "name": "stderr"
        },
        {
          "output_type": "stream",
          "text": [
            "Log loss: 1.311216962011028\n",
            "Accuracy: 0.6693477108007778\n"
          ],
          "name": "stdout"
        },
        {
          "output_type": "stream",
          "text": [
            "/usr/local/lib/python3.6/dist-packages/matplotlib/cbook/__init__.py:424: MatplotlibDeprecationWarning: \n",
            "Passing one of 'on', 'true', 'off', 'false' as a boolean is deprecated; use an actual boolean (True/False) instead.\n",
            "  warn_deprecated(\"2.2\", \"Passing one of 'on', 'true', 'off', 'false' as a \"\n"
          ],
          "name": "stderr"
        },
        {
          "output_type": "display_data",
          "data": {
            "image/png": "[encoded data removed]",
            "text/plain": [
              "<Figure size 432x288 with 2 Axes>"
            ]
          },
          "metadata": {
            "tags": []
          }
        }
      ]
    },
    {
      "metadata": {
        "id": "oZ4_CXvn_x6L",
        "colab_type": "text"
      },
      "cell_type": "markdown",
      "source": [
        "# My way NOW for W2V"
      ]
    },
    {
      "metadata": {
        "id": "n7bK4TsBECNF",
        "colab_type": "text"
      },
      "cell_type": "markdown",
      "source": [
        "# Making X_train, X_test, Y_train, Y_test"
      ]
    },
    {
      "metadata": {
        "id": "y8LaeBmTIjzD",
        "colab_type": "code",
        "colab": {}
      },
      "cell_type": "code",
      "source": [
        "all=fetch_20newsgroups(subset='all', shuffle=True)"
      ],
      "execution_count": 0,
      "outputs": []
    },
    {
      "metadata": {
        "id": "8_cCoxM5Fjim",
        "colab_type": "code",
        "colab": {}
      },
      "cell_type": "code",
      "source": [
        "x_train,x_test,y_train,y_test=train_test_split(total_cleaned,all.target,test_size=0.3,random_state=42)"
      ],
      "execution_count": 0,
      "outputs": []
    },
    {
      "metadata": {
        "id": "TO8HWY-afStk",
        "colab_type": "code",
        "colab": {}
      },
      "cell_type": "code",
      "source": [
        "x_total=x_train+x_test"
      ],
      "execution_count": 0,
      "outputs": []
    },
    {
      "metadata": {
        "id": "NVaYIzBOH17O",
        "colab_type": "code",
        "outputId": "91235372-1679-4f64-8772-f4808d40149c",
        "colab": {
          "base_uri": "https://localhost:8080/",
          "height": 34
        }
      },
      "cell_type": "code",
      "source": [
        "len(x_train)"
      ],
      "execution_count": 29,
      "outputs": [
        {
          "output_type": "execute_result",
          "data": {
            "text/plain": [
              "13192"
            ]
          },
          "metadata": {
            "tags": []
          },
          "execution_count": 29
        }
      ]
    },
    {
      "metadata": {
        "id": "CH3WGNNlH4e2",
        "colab_type": "code",
        "outputId": "d9503244-5ec2-4bb7-e19f-57bfb6471675",
        "colab": {
          "base_uri": "https://localhost:8080/",
          "height": 34
        }
      },
      "cell_type": "code",
      "source": [
        "len(x_test)"
      ],
      "execution_count": 30,
      "outputs": [
        {
          "output_type": "execute_result",
          "data": {
            "text/plain": [
              "5654"
            ]
          },
          "metadata": {
            "tags": []
          },
          "execution_count": 30
        }
      ]
    },
    {
      "metadata": {
        "id": "CVvfomoGI5qm",
        "colab_type": "code",
        "outputId": "d2cedc72-1007-49be-a5d4-bfaae734360e",
        "colab": {
          "base_uri": "https://localhost:8080/",
          "height": 77
        }
      },
      "cell_type": "code",
      "source": [
        "#creating word2vec model\n",
        "model= Word2Vec(x_total,size=100,window=5,sg=1,min_count=1,alpha=0.025)\n",
        "#The raw vectors array of words in a Word2Vec is available in model.wv.syn0\n",
        "#The list of words in the index-order of that array is in model.wv.index2word.\n",
        "w2v = dict(zip(model.wv.index2word, model.wv.syn0))#train model\n",
        "#w2v"
      ],
      "execution_count": 31,
      "outputs": [
        {
          "output_type": "stream",
          "text": [
            "/usr/local/lib/python3.6/dist-packages/ipykernel_launcher.py:4: DeprecationWarning: Call to deprecated `syn0` (Attribute will be removed in 4.0.0, use self.wv.vectors instead).\n",
            "  after removing the cwd from sys.path.\n"
          ],
          "name": "stderr"
        }
      ]
    },
    {
      "metadata": {
        "id": "AOjZA4vgJIt-",
        "colab_type": "code",
        "outputId": "0eab0349-da9d-49c3-87e0-8c7aaf610d4c",
        "colab": {
          "base_uri": "https://localhost:8080/",
          "height": 34
        }
      },
      "cell_type": "code",
      "source": [
        "#converting to tfidf matrix\n",
        "from sklearn.feature_extraction.text import TfidfVectorizer\n",
        "vectorizer = TfidfVectorizer(analyzer=lambda x: x)\n",
        "matrix = vectorizer.fit_transform([x for x in x_train])\n",
        "tfidf = dict(zip(vectorizer.get_feature_names(), vectorizer.idf_))\n",
        "#print(tfidf)\n",
        "print('vocab size :', len(tfidf))"
      ],
      "execution_count": 32,
      "outputs": [
        {
          "output_type": "stream",
          "text": [
            "vocab size : 98212\n"
          ],
          "name": "stdout"
        }
      ]
    },
    {
      "metadata": {
        "id": "TKrTWBy6Jlyu",
        "colab_type": "code",
        "colab": {}
      },
      "cell_type": "code",
      "source": [
        "#given a list of tweet tokens, creates an averaged tweet vector.\n",
        "def buildWordVector(tokens, size):\n",
        "    vec = np.zeros(size).reshape((1, size))\n",
        "    count = 0.\n",
        "    for word in tokens:\n",
        "        try:\n",
        "            vec += w2v[word].reshape((1, size)) * tfidf[word]\n",
        "            count += 1.\n",
        "        except KeyError: # handling the case where the token is not\n",
        "                         # in the corpus. useful for testing.\n",
        "            continue\n",
        "    if count != 0:\n",
        "        vec /= count\n",
        "    return vec"
      ],
      "execution_count": 0,
      "outputs": []
    },
    {
      "metadata": {
        "id": "ZZTyIXZ3JzLN",
        "colab_type": "code",
        "outputId": "c8095af3-b261-4f37-cbed-a6241fb0f49f",
        "colab": {
          "base_uri": "https://localhost:8080/",
          "height": 51
        }
      },
      "cell_type": "code",
      "source": [
        "from sklearn.preprocessing import scale\n",
        "from tqdm import tqdm#for progress bar while looping\n",
        "train_vecs_w2v = np.concatenate([buildWordVector(z, 100) for z in tqdm(map(lambda x: x, x_train))])\n",
        "train_vecs_w2v = scale(train_vecs_w2v)#scale for mean=0 and std dev=1 \n",
        "\n",
        "test_vecs_w2v = np.concatenate([buildWordVector(z, 100) for z in tqdm(map(lambda x: x, x_test))])\n",
        "test_vecs_w2v = scale(test_vecs_w2v)#scale for mean=0 and std dev=1"
      ],
      "execution_count": 34,
      "outputs": [
        {
          "output_type": "stream",
          "text": [
            "13192it [00:12, 1092.98it/s]\n",
            "5654it [00:05, 1076.26it/s]\n"
          ],
          "name": "stderr"
        }
      ]
    },
    {
      "metadata": {
        "id": "ScyKFdQRNuhi",
        "colab_type": "code",
        "outputId": "688a90c5-04f1-469d-ab06-f352438a63ea",
        "colab": {
          "base_uri": "https://localhost:8080/",
          "height": 34
        }
      },
      "cell_type": "code",
      "source": [
        "train_vecs_w2v.shape"
      ],
      "execution_count": 47,
      "outputs": [
        {
          "output_type": "execute_result",
          "data": {
            "text/plain": [
              "(13192, 100)"
            ]
          },
          "metadata": {
            "tags": []
          },
          "execution_count": 47
        }
      ]
    },
    {
      "metadata": {
        "id": "rSrcDCCANykV",
        "colab_type": "code",
        "outputId": "0e5cefd5-08a6-45e5-8934-f269adfbbf32",
        "colab": {
          "base_uri": "https://localhost:8080/",
          "height": 34
        }
      },
      "cell_type": "code",
      "source": [
        "test_vecs_w2v.shape"
      ],
      "execution_count": 48,
      "outputs": [
        {
          "output_type": "execute_result",
          "data": {
            "text/plain": [
              "(5654, 100)"
            ]
          },
          "metadata": {
            "tags": []
          },
          "execution_count": 48
        }
      ]
    },
    {
      "metadata": {
        "id": "8pc7t2VNKGd4",
        "colab_type": "code",
        "colab": {}
      },
      "cell_type": "code",
      "source": [
        "#classfication using svm\n",
        "svc=SVC(kernel=\"rbf\", C=0.025, probability=True)\n",
        "svc.fit(train_vecs_w2v,y_train)\n",
        "y_pred=svc.predict(test_vecs_w2v)\n",
        "from sklearn.metrics import classification_report\n",
        "print('accuracy %s' % accuracy_score(y_pred, y_test))\n",
        "print(classification_report(y_pred, y_test))"
      ],
      "execution_count": 0,
      "outputs": []
    },
    {
      "metadata": {
        "id": "usP07-8HQNx-",
        "colab_type": "text"
      },
      "cell_type": "markdown",
      "source": [
        "# Using FAST TEXT"
      ]
    },
    {
      "metadata": {
        "id": "trF3EkBgLIAW",
        "colab_type": "code",
        "colab": {}
      },
      "cell_type": "code",
      "source": [
        "from gensim.models import FastText\n",
        "model1=FastText(x_train,size=100,window=5,sg=1,min_count=1,alpha=0.025)"
      ],
      "execution_count": 0,
      "outputs": []
    },
    {
      "metadata": {
        "id": "xF19x0fhOO8n",
        "colab_type": "code",
        "outputId": "cba731af-67c3-48ce-f903-3822d821996d",
        "colab": {
          "base_uri": "https://localhost:8080/",
          "height": 71
        }
      },
      "cell_type": "code",
      "source": [
        "ft = dict(zip(model1.wv.index2word, model1.wv.syn0))#train model"
      ],
      "execution_count": 0,
      "outputs": [
        {
          "output_type": "stream",
          "text": [
            "/usr/local/lib/python3.6/dist-packages/ipykernel_launcher.py:1: DeprecationWarning: Call to deprecated `syn0` (Attribute will be removed in 4.0.0, use self.wv.vectors instead).\n",
            "  \"\"\"Entry point for launching an IPython kernel.\n"
          ],
          "name": "stderr"
        }
      ]
    },
    {
      "metadata": {
        "id": "Z0lvYf-bQinV",
        "colab_type": "code",
        "colab": {}
      },
      "cell_type": "code",
      "source": [
        "def WordVectorfasttext(tokens, size):\n",
        "    vec = np.zeros(size).reshape((1, size))\n",
        "    count = 0.\n",
        "    for word in tokens:\n",
        "        try:\n",
        "            vec += ft[word].reshape((1, size)) * tfidf[word]\n",
        "            count += 1.\n",
        "        except KeyError: # handling the case where the token is not\n",
        "                         # in the corpus. useful for testing.\n",
        "            continue\n",
        "    if count != 0:\n",
        "        vec /= count\n",
        "    return vec"
      ],
      "execution_count": 0,
      "outputs": []
    },
    {
      "metadata": {
        "id": "1y1EKafzQkyo",
        "colab_type": "code",
        "outputId": "f233757f-7aab-4145-f927-ff8842dad426",
        "colab": {
          "base_uri": "https://localhost:8080/",
          "height": 2941
        }
      },
      "cell_type": "code",
      "source": [
        "train_vecs_ft = np.concatenate([WordVectorfasttext(z, 100) for z in tqdm(map(lambda x: x, x_train))])\n",
        "train_vecs_ft = scale(train_vecs_ft)#scale for mean=0 and std dev=1 \n",
        "\n",
        "test_vecs_ft = np.concatenate([WordVectorfasttext(z, 100) for z in tqdm(map(lambda x: x, x_test))])\n",
        "test_vecs_ft = scale(test_vecs_ft)#scale for mean=0 and std dev=1"
      ],
      "execution_count": 0,
      "outputs": [
        {
          "output_type": "stream",
          "text": [
            "\n",
            "0it [00:00, ?it/s]\u001b[A\n",
            "91it [00:00, 902.30it/s]\u001b[A\n",
            "183it [00:00, 907.07it/s]\u001b[A\n",
            "326it [00:00, 1018.41it/s]\u001b[A\n",
            "414it [00:00, 970.80it/s] \u001b[A\n",
            "533it [00:00, 1025.13it/s]\u001b[A\n",
            "660it [00:00, 1087.22it/s]\u001b[A\n",
            "781it [00:00, 1120.46it/s]\u001b[A\n",
            "903it [00:00, 1146.84it/s]\u001b[A\n",
            "1015it [00:00, 1117.25it/s]\u001b[A\n",
            "1125it [00:01, 907.35it/s] \u001b[A\n",
            "1221it [00:01, 875.25it/s]\u001b[A\n",
            "1344it [00:01, 957.04it/s]\u001b[A\n",
            "1445it [00:01, 859.89it/s]\u001b[A\n",
            "1582it [00:01, 968.01it/s]\u001b[A\n",
            "1694it [00:01, 1008.39it/s]\u001b[A\n",
            "1834it [00:01, 1097.08it/s]\u001b[A\n",
            "1951it [00:01, 1079.77it/s]\u001b[A\n",
            "2064it [00:01, 1074.23it/s]\u001b[A\n",
            "2180it [00:02, 1093.62it/s]\u001b[A\n",
            "2292it [00:02, 958.29it/s] \u001b[A\n",
            "2393it [00:02, 800.17it/s]\u001b[A\n",
            "2517it [00:02, 894.94it/s]\u001b[A\n",
            "2616it [00:02, 907.28it/s]\u001b[A\n",
            "2735it [00:02, 974.97it/s]\u001b[A\n",
            "2839it [00:02, 934.97it/s]\u001b[A\n",
            "2937it [00:02, 937.02it/s]\u001b[A\n",
            "3036it [00:03, 950.10it/s]\u001b[A\n",
            "3159it [00:03, 1017.86it/s]\u001b[A\n",
            "3264it [00:03, 901.84it/s] \u001b[A\n",
            "3359it [00:03, 909.09it/s]\u001b[A\n",
            "3454it [00:03, 773.99it/s]\u001b[A\n",
            "3541it [00:03, 799.39it/s]\u001b[A\n",
            "3626it [00:03, 739.75it/s]\u001b[A\n",
            "3732it [00:03, 813.03it/s]\u001b[A\n",
            "3857it [00:03, 907.42it/s]\u001b[A\n",
            "3965it [00:04, 949.39it/s]\u001b[A\n",
            "4081it [00:04, 1003.51it/s]\u001b[A\n",
            "4188it [00:04, 1020.05it/s]\u001b[A\n",
            "4294it [00:04, 1006.75it/s]\u001b[A\n",
            "4410it [00:04, 1043.77it/s]\u001b[A\n",
            "4526it [00:04, 1075.57it/s]\u001b[A\n",
            "4636it [00:04, 924.01it/s] \u001b[A\n",
            "4748it [00:04, 973.88it/s]\u001b[A\n",
            "4875it [00:04, 1045.32it/s]\u001b[A\n",
            "4995it [00:05, 1085.57it/s]\u001b[A\n",
            "5108it [00:05, 1067.15it/s]\u001b[A\n",
            "5230it [00:05, 1037.74it/s]\u001b[A\n",
            "5359it [00:05, 1101.23it/s]\u001b[A\n",
            "5498it [00:05, 1174.20it/s]\u001b[A\n",
            "5619it [00:05, 1144.49it/s]\u001b[A\n",
            "5736it [00:05, 836.92it/s] \u001b[A\n",
            "5841it [00:05, 888.45it/s]\u001b[A\n",
            "5941it [00:06, 864.79it/s]\u001b[A\n",
            "6058it [00:06, 937.15it/s]\u001b[A\n",
            "6159it [00:06, 918.20it/s]\u001b[A\n",
            "6279it [00:06, 986.81it/s]\u001b[A\n",
            "6395it [00:06, 1031.35it/s]\u001b[A\n",
            "6522it [00:06, 1092.78it/s]\u001b[A\n",
            "6636it [00:06, 933.88it/s] \u001b[A\n",
            "6737it [00:06, 936.51it/s]\u001b[A\n",
            "6848it [00:06, 979.86it/s]\u001b[A\n",
            "6979it [00:07, 1059.69it/s]\u001b[A\n",
            "7120it [00:07, 1145.02it/s]\u001b[A\n",
            "7240it [00:07, 1132.43it/s]\u001b[A\n",
            "7357it [00:07, 1071.60it/s]\u001b[A\n",
            "7490it [00:07, 1129.03it/s]\u001b[A\n",
            "7606it [00:07, 1023.88it/s]\u001b[A\n",
            "7718it [00:07, 1050.62it/s]\u001b[A\n",
            "7827it [00:07, 983.03it/s] \u001b[A\n",
            "7935it [00:07, 1009.83it/s]\u001b[A\n",
            "8055it [00:08, 1060.20it/s]\u001b[A\n",
            "8181it [00:08, 1106.55it/s]\u001b[A\n",
            "8305it [00:08, 1143.46it/s]\u001b[A\n",
            "8422it [00:08, 1108.89it/s]\u001b[A\n",
            "8535it [00:08, 1017.37it/s]\u001b[A\n",
            "8650it [00:08, 1050.84it/s]\u001b[A\n",
            "8758it [00:08, 1027.18it/s]\u001b[A\n",
            "8873it [00:08, 1056.04it/s]\u001b[A\n",
            "8980it [00:08, 996.05it/s] \u001b[A\n",
            "9101it [00:09, 1050.88it/s]\u001b[A\n",
            "9209it [00:09, 964.40it/s] \u001b[A\n",
            "9317it [00:09, 973.23it/s]\u001b[A\n",
            "9417it [00:09, 938.52it/s]\u001b[A\n",
            "9534it [00:09, 997.13it/s]\u001b[A\n",
            "9636it [00:09, 947.89it/s]\u001b[A\n",
            "9733it [00:09, 933.92it/s]\u001b[A\n",
            "9852it [00:09, 996.73it/s]\u001b[A\n",
            "9990it [00:09, 1086.38it/s]\u001b[A\n",
            "10103it [00:10, 1075.70it/s]\u001b[A\n",
            "10214it [00:10, 889.07it/s] \u001b[A\n",
            "10334it [00:10, 963.11it/s]\u001b[A\n",
            "10457it [00:10, 1030.12it/s]\u001b[A\n",
            "10570it [00:10, 1053.34it/s]\u001b[A\n",
            "10680it [00:10, 965.07it/s] \u001b[A\n",
            "10802it [00:10, 1024.22it/s]\u001b[A\n",
            "10909it [00:10, 898.26it/s] \u001b[A\n",
            "11005it [00:10, 901.54it/s]\u001b[A\n",
            "11122it [00:11, 967.43it/s]\u001b[A\n",
            "11260it [00:11, 1061.32it/s]\u001b[A\n",
            "11372it [00:11, 899.86it/s] \u001b[A\n",
            "11494it [00:11, 976.65it/s]\u001b[A\n",
            "11603it [00:11, 1007.98it/s]\u001b[A\n",
            "11715it [00:11, 1038.71it/s]\u001b[A\n",
            "11824it [00:11, 989.06it/s] \u001b[A\n",
            "11932it [00:11, 1012.73it/s]\u001b[A\n",
            "12036it [00:11, 989.55it/s] \u001b[A\n",
            "12137it [00:12, 856.66it/s]\u001b[A\n",
            "12228it [00:12, 852.40it/s]\u001b[A\n",
            "12346it [00:12, 929.73it/s]\u001b[A\n",
            "12446it [00:12, 949.41it/s]\u001b[A\n",
            "12545it [00:12, 930.49it/s]\u001b[A\n",
            "12671it [00:12, 1006.55it/s]\u001b[A\n",
            "12783it [00:12, 1036.96it/s]\u001b[A\n",
            "12890it [00:12, 839.38it/s] \u001b[A\n",
            "12982it [00:13, 851.25it/s]\u001b[A\n",
            "13091it [00:13, 909.49it/s]\u001b[A\n",
            "13192it [00:13, 995.69it/s]\u001b[A\n",
            "0it [00:00, ?it/s]\u001b[A\n",
            "133it [00:00, 1325.56it/s]\u001b[A\n",
            "236it [00:00, 1215.18it/s]\u001b[A\n",
            "325it [00:00, 937.14it/s] \u001b[A\n",
            "433it [00:00, 974.24it/s]\u001b[A\n",
            "555it [00:00, 1031.27it/s]\u001b[A\n",
            "665it [00:00, 1026.79it/s]\u001b[A\n",
            "788it [00:00, 1078.65it/s]\u001b[A\n",
            "889it [00:00, 1029.06it/s]\u001b[A\n",
            "1004it [00:00, 1061.58it/s]\u001b[A\n",
            "1111it [00:01, 1002.84it/s]\u001b[A\n",
            "1221it [00:01, 966.49it/s] \u001b[A\n",
            "1331it [00:01, 1000.39it/s]\u001b[A\n",
            "1457it [00:01, 1065.49it/s]\u001b[A\n",
            "1565it [00:01, 1066.32it/s]\u001b[A\n",
            "1673it [00:01, 1007.71it/s]\u001b[A\n",
            "1775it [00:01, 957.19it/s] \u001b[A\n",
            "1881it [00:01, 982.11it/s]\u001b[A\n",
            "1981it [00:01, 939.04it/s]\u001b[A\n",
            "2087it [00:02, 972.15it/s]\u001b[A\n",
            "2191it [00:02, 990.21it/s]\u001b[A\n",
            "2301it [00:02, 1017.25it/s]\u001b[A\n",
            "2423it [00:02, 1015.80it/s]\u001b[A\n",
            "2526it [00:02, 996.57it/s] \u001b[A\n",
            "2627it [00:02, 938.99it/s]\u001b[A\n",
            "2766it [00:02, 1040.14it/s]\u001b[A\n",
            "2880it [00:02, 1067.91it/s]\u001b[A\n",
            "2990it [00:02, 960.49it/s] \u001b[A\n",
            "3091it [00:03, 918.30it/s]\u001b[A\n",
            "3204it [00:03, 971.21it/s]\u001b[A\n",
            "3305it [00:03, 908.06it/s]\u001b[A\n",
            "3404it [00:03, 905.32it/s]\u001b[A\n",
            "3530it [00:03, 987.32it/s]\u001b[A\n",
            "3633it [00:03, 940.96it/s]\u001b[A\n",
            "3731it [00:03, 904.89it/s]\u001b[A\n",
            "3824it [00:03, 889.36it/s]\u001b[A\n",
            "3931it [00:03, 936.40it/s]\u001b[A\n",
            "4027it [00:04, 855.85it/s]\u001b[A\n",
            "4116it [00:04, 835.50it/s]\u001b[A\n",
            "4254it [00:04, 947.40it/s]\u001b[A\n",
            "4356it [00:04, 952.66it/s]\u001b[A\n",
            "4456it [00:04, 863.21it/s]\u001b[A\n",
            "4571it [00:04, 932.73it/s]\u001b[A\n",
            "4690it [00:04, 997.36it/s]\u001b[A\n",
            "4795it [00:04, 997.36it/s]\u001b[A\n",
            "4899it [00:04, 972.70it/s]\u001b[A\n",
            "5010it [00:05, 1009.06it/s]\u001b[A\n",
            "5113it [00:05, 973.08it/s] \u001b[A\n",
            "5230it [00:05, 1024.70it/s]\u001b[A\n",
            "5354it [00:05, 1078.99it/s]\u001b[A\n",
            "5478it [00:05, 1120.68it/s]\u001b[A\n",
            "5592it [00:05, 996.58it/s] \u001b[A\n",
            "5654it [00:05, 985.89it/s]\u001b[A"
          ],
          "name": "stderr"
        }
      ]
    },
    {
      "metadata": {
        "id": "TNxWR9fvQnPT",
        "colab_type": "code",
        "outputId": "f89e6bd6-eb56-4b01-f097-b6f7fcb0b3a0",
        "colab": {
          "base_uri": "https://localhost:8080/",
          "height": 34
        }
      },
      "cell_type": "code",
      "source": [
        "#classfication using svm\n",
        "svc2=SVC(kernel=\"linear\", C=0.025, probability=True)\n",
        "svc2.fit(train_vecs_ft,y_train)\n",
        "y_pred2=svc2.predict(test_vecs_ft)\n",
        "print(y_pred2)"
      ],
      "execution_count": 0,
      "outputs": [
        {
          "output_type": "stream",
          "text": [
            "[ 6  5  5 ...  5 17  3]\n"
          ],
          "name": "stdout"
        }
      ]
    },
    {
      "metadata": {
        "id": "0ydmwtHRRRFW",
        "colab_type": "code",
        "outputId": "33c8c2e4-d774-458d-e506-b58a6265c3c6",
        "colab": {
          "base_uri": "https://localhost:8080/",
          "height": 547
        }
      },
      "cell_type": "code",
      "source": [
        "from sklearn.metrics import classification_report\n",
        "print('accuracy %s' % accuracy_score(y_pred2, y_test))\n",
        "print(classification_report(y_pred2, y_test))"
      ],
      "execution_count": 0,
      "outputs": [
        {
          "output_type": "stream",
          "text": [
            "accuracy 0.05217545100813583\n",
            "              precision    recall  f1-score   support\n",
            "\n",
            "           0       0.02      0.07      0.03        60\n",
            "           1       0.06      0.05      0.05       376\n",
            "           2       0.06      0.04      0.05       388\n",
            "           3       0.07      0.06      0.06       352\n",
            "           4       0.04      0.06      0.05       235\n",
            "           5       0.06      0.05      0.05       438\n",
            "           6       0.07      0.06      0.06       332\n",
            "           7       0.05      0.04      0.04       336\n",
            "           8       0.09      0.05      0.06       552\n",
            "           9       0.07      0.05      0.06       446\n",
            "          10       0.04      0.05      0.04       234\n",
            "          11       0.06      0.05      0.06       321\n",
            "          12       0.04      0.05      0.05       239\n",
            "          13       0.04      0.05      0.04       240\n",
            "          14       0.04      0.06      0.04       196\n",
            "          15       0.10      0.07      0.08       418\n",
            "          16       0.02      0.04      0.03       127\n",
            "          17       0.08      0.06      0.07       346\n",
            "          18       0.00      0.06      0.01        18\n",
            "          19       0.00      0.00      0.00         0\n",
            "\n",
            "   micro avg       0.05      0.05      0.05      5654\n",
            "   macro avg       0.05      0.05      0.05      5654\n",
            "weighted avg       0.06      0.05      0.06      5654\n",
            "\n"
          ],
          "name": "stdout"
        },
        {
          "output_type": "stream",
          "text": [
            "/usr/local/lib/python3.6/dist-packages/sklearn/metrics/classification.py:1145: UndefinedMetricWarning: Recall and F-score are ill-defined and being set to 0.0 in labels with no true samples.\n",
            "  'recall', 'true', average, warn_for)\n"
          ],
          "name": "stderr"
        }
      ]
    },
    {
      "metadata": {
        "id": "qnSbB2y7e-kX",
        "colab_type": "text"
      },
      "cell_type": "markdown",
      "source": [
        "# Using DOC2VEC"
      ]
    },
    {
      "metadata": {
        "id": "i-HNNwN3Su1t",
        "colab_type": "code",
        "colab": {}
      },
      "cell_type": "code",
      "source": [
        "#Import all the dependencies\n",
        "from gensim.models.doc2vec import Doc2Vec, TaggedDocument\n",
        "from nltk.tokenize import word_tokenize"
      ],
      "execution_count": 0,
      "outputs": []
    },
    {
      "metadata": {
        "id": "6VSSn5_5fBAP",
        "colab_type": "code",
        "colab": {}
      },
      "cell_type": "code",
      "source": [
        "tagged_data = [TaggedDocument(words=word_tokenize(_d.lower()), tags=[str(i)]) for i, _d in enumerate(total_news_cleaned)]"
      ],
      "execution_count": 0,
      "outputs": []
    },
    {
      "metadata": {
        "id": "91_a1lG3wMB9",
        "colab_type": "code",
        "outputId": "23bcd09d-9905-45f9-8180-9c3e86fea1c8",
        "colab": {
          "base_uri": "https://localhost:8080/",
          "height": 54
        }
      },
      "cell_type": "code",
      "source": [
        "tagged_data[0]"
      ],
      "execution_count": 0,
      "outputs": [
        {
          "output_type": "execute_result",
          "data": {
            "text/plain": [
              "TaggedDocument(words=['lerxst', 'wam', 'umd', 'edu', 'thing', 'subject', 'car', 'nntp', 'posting', 'host', 'rac', 'wam', 'umd', 'edu', 'organization', 'university', 'maryland', 'college', 'park', 'lines', 'wondering', 'anyone', 'could', 'enlighten', 'car', 'saw', 'day', 'door', 'sports', 'car', 'looked', 'late', 'early', 'called', 'bricklin', 'doors', 'really', 'small', 'addition', 'front', 'bumper', 'separate', 'rest', 'body', 'know', 'anyone', 'tellme', 'model', 'name', 'engine', 'specs', 'years', 'production', 'car', 'made', 'history', 'whatever', 'info', 'funky', 'looking', 'car', 'please', 'e', 'mail', 'thanks', 'il', 'brought', 'neighborhood', 'lerxst'], tags=['0'])"
            ]
          },
          "metadata": {
            "tags": []
          },
          "execution_count": 161
        }
      ]
    },
    {
      "metadata": {
        "id": "7R36ddcnzuAR",
        "colab_type": "code",
        "colab": {}
      },
      "cell_type": "code",
      "source": [
        "\n",
        "from tqdm  import  tqdm\n",
        "from gensim.models import Doc2Vec\n",
        "from gensim.models.doc2vec import LabeledSentence\n",
        "import multiprocessing\n",
        "from sklearn import utils"
      ],
      "execution_count": 0,
      "outputs": []
    },
    {
      "metadata": {
        "id": "UOrjdNsBz52-",
        "colab_type": "code",
        "outputId": "6d0e375f-78d4-4b21-d446-aba929134e91",
        "colab": {
          "base_uri": "https://localhost:8080/",
          "height": 88
        }
      },
      "cell_type": "code",
      "source": [
        "model_ug_dbow = Doc2Vec(dm=0, size=100, negative=1, min_count=1, alpha=0.065, min_alpha=0.065)\n",
        "model_ug_dbow.build_vocab([x for x in tqdm(tagged_data)])"
      ],
      "execution_count": 0,
      "outputs": [
        {
          "output_type": "stream",
          "text": [
            "/usr/local/lib/python3.6/dist-packages/gensim/models/doc2vec.py:570: UserWarning: The parameter `size` is deprecated, will be removed in 4.0.0, use `vector_size` instead.\n",
            "  warnings.warn(\"The parameter `size` is deprecated, will be removed in 4.0.0, use `vector_size` instead.\")\n",
            "100%|██████████| 18846/18846 [00:00<00:00, 1297577.94it/s]\n"
          ],
          "name": "stderr"
        }
      ]
    },
    {
      "metadata": {
        "id": "joJKWtgy0Qn-",
        "colab_type": "code",
        "outputId": "a8ffd9d1-814e-48b0-ced8-b7078d6d0944",
        "colab": {
          "base_uri": "https://localhost:8080/",
          "height": 561
        }
      },
      "cell_type": "code",
      "source": [
        "%%time\n",
        "for epoch in range(30):\n",
        "    model_ug_dbow.train(utils.shuffle([x for x in tqdm(tagged_data)]), total_examples=len(tagged_data), epochs=1)\n",
        "    model_ug_dbow.alpha -= 0.002\n",
        "    model_ug_dbow.min_alpha = model_ug_dbow.alpha"
      ],
      "execution_count": 0,
      "outputs": [
        {
          "output_type": "stream",
          "text": [
            "100%|██████████| 18846/18846 [00:00<00:00, 1954983.63it/s]\n",
            "100%|██████████| 18846/18846 [00:00<00:00, 2239893.83it/s]\n",
            "100%|██████████| 18846/18846 [00:00<00:00, 2432329.78it/s]\n",
            "100%|██████████| 18846/18846 [00:00<00:00, 1621553.19it/s]\n",
            "100%|██████████| 18846/18846 [00:00<00:00, 2495449.34it/s]\n",
            "100%|██████████| 18846/18846 [00:00<00:00, 1840758.54it/s]\n",
            "100%|██████████| 18846/18846 [00:00<00:00, 1712914.23it/s]\n",
            "100%|██████████| 18846/18846 [00:00<00:00, 1916960.18it/s]\n",
            "100%|██████████| 18846/18846 [00:00<00:00, 2383483.69it/s]\n",
            "100%|██████████| 18846/18846 [00:00<00:00, 1968371.26it/s]\n",
            "100%|██████████| 18846/18846 [00:00<00:00, 2462180.82it/s]\n",
            "100%|██████████| 18846/18846 [00:00<00:00, 2286015.77it/s]\n",
            "100%|██████████| 18846/18846 [00:00<00:00, 2405753.82it/s]\n",
            "100%|██████████| 18846/18846 [00:00<00:00, 1910289.11it/s]\n",
            "100%|██████████| 18846/18846 [00:00<00:00, 1843850.09it/s]\n",
            "100%|██████████| 18846/18846 [00:00<00:00, 1969695.58it/s]\n",
            "100%|██████████| 18846/18846 [00:00<00:00, 2398235.84it/s]\n",
            "100%|██████████| 18846/18846 [00:00<00:00, 1922087.62it/s]\n",
            "100%|██████████| 18846/18846 [00:00<00:00, 2196816.55it/s]\n",
            "100%|██████████| 18846/18846 [00:00<00:00, 2259485.86it/s]\n",
            "100%|██████████| 18846/18846 [00:00<00:00, 2284628.26it/s]\n",
            "100%|██████████| 18846/18846 [00:00<00:00, 1808953.78it/s]\n",
            "100%|██████████| 18846/18846 [00:00<00:00, 2232555.31it/s]\n",
            "100%|██████████| 18846/18846 [00:00<00:00, 1419466.90it/s]\n",
            "100%|██████████| 18846/18846 [00:00<00:00, 2088121.86it/s]\n",
            "100%|██████████| 18846/18846 [00:00<00:00, 2366713.17it/s]\n",
            "100%|██████████| 18846/18846 [00:00<00:00, 1619128.50it/s]\n",
            "100%|██████████| 18846/18846 [00:00<00:00, 2483609.93it/s]\n",
            "100%|██████████| 18846/18846 [00:00<00:00, 2316565.65it/s]\n",
            "100%|██████████| 18846/18846 [00:00<00:00, 2323442.97it/s]\n"
          ],
          "name": "stderr"
        },
        {
          "output_type": "stream",
          "text": [
            "CPU times: user 2min 46s, sys: 9.63 s, total: 2min 56s\n",
            "Wall time: 1min 52s\n"
          ],
          "name": "stdout"
        }
      ]
    },
    {
      "metadata": {
        "id": "OmP_afgi0cL1",
        "colab_type": "code",
        "colab": {}
      },
      "cell_type": "code",
      "source": [
        "def  get_vectors(model, corpus, size):\n",
        "    vecs = np.zeros((len(corpus), size))\n",
        "    n = 0\n",
        "    for i in range(len(corpus)):\n",
        "        prefix = str(i)\n",
        "        vecs[n] = model.docvecs[prefix]\n",
        "        n += 1\n",
        "    return vecs"
      ],
      "execution_count": 0,
      "outputs": []
    },
    {
      "metadata": {
        "id": "wZGrS2-M2CwO",
        "colab_type": "code",
        "outputId": "3123ba09-a880-42a1-a8ae-25462bc85596",
        "colab": {
          "base_uri": "https://localhost:8080/",
          "height": 54
        }
      },
      "cell_type": "code",
      "source": [
        "train_cleaned[0]"
      ],
      "execution_count": 0,
      "outputs": [
        {
          "output_type": "execute_result",
          "data": {
            "text/plain": [
              "'lerxst wam umd edu thing subject car nntp posting host rac wam umd edu organization university maryland college park lines wondering anyone could enlighten car saw day door sports car looked late early called bricklin doors really small addition front bumper separate rest body know anyone tellme model name engine specs years production car made history whatever info funky looking car please e mail thanks il brought neighborhood lerxst'"
            ]
          },
          "metadata": {
            "tags": []
          },
          "execution_count": 180
        }
      ]
    },
    {
      "metadata": {
        "id": "Tbrj7xzE0ynt",
        "colab_type": "code",
        "colab": {}
      },
      "cell_type": "code",
      "source": [
        "#Calculating Vectors\n",
        "train_vecs_dbow = get_vectors(model_ug_dbow, train_cleaned, 100)\n",
        "test_vecs_dbow = get_vectors(model_ug_dbow, test_cleaned, 100)"
      ],
      "execution_count": 0,
      "outputs": []
    },
    {
      "metadata": {
        "id": "JQRpgj_31E1-",
        "colab_type": "code",
        "colab": {}
      },
      "cell_type": "code",
      "source": [
        "X_train=train_vecs_dbow"
      ],
      "execution_count": 0,
      "outputs": []
    },
    {
      "metadata": {
        "id": "mFIBSPUj2goV",
        "colab_type": "code",
        "colab": {}
      },
      "cell_type": "code",
      "source": [
        "X_test=test_vecs_dbow"
      ],
      "execution_count": 0,
      "outputs": []
    },
    {
      "metadata": {
        "id": "bsizB-Yr48Sc",
        "colab_type": "code",
        "outputId": "43a60c8b-f6f1-4d65-c786-544dc8c6cb52",
        "colab": {
          "base_uri": "https://localhost:8080/",
          "height": 85
        }
      },
      "cell_type": "code",
      "source": [
        "from sklearn import svm\n",
        "import numpy as np\n",
        "clf = svm.SVC(gamma='scale')\n",
        "clf.fit(X_train, np.asarray(train.target))  "
      ],
      "execution_count": 0,
      "outputs": [
        {
          "output_type": "execute_result",
          "data": {
            "text/plain": [
              "SVC(C=1.0, cache_size=200, class_weight=None, coef0=0.0,\n",
              "  decision_function_shape='ovr', degree=3, gamma='scale', kernel='rbf',\n",
              "  max_iter=-1, probability=False, random_state=None, shrinking=True,\n",
              "  tol=0.001, verbose=False)"
            ]
          },
          "metadata": {
            "tags": []
          },
          "execution_count": 203
        }
      ]
    },
    {
      "metadata": {
        "id": "Joc7B-QF5bzf",
        "colab_type": "code",
        "colab": {}
      },
      "cell_type": "code",
      "source": [
        "pred=clf.predict(X_test)"
      ],
      "execution_count": 0,
      "outputs": []
    },
    {
      "metadata": {
        "id": "jO9El_d95pa-",
        "colab_type": "code",
        "outputId": "a67da707-5dda-461c-d675-20f5a71f4fc9",
        "colab": {
          "base_uri": "https://localhost:8080/",
          "height": 493
        }
      },
      "cell_type": "code",
      "source": [
        "from sklearn.metrics import classification_report\n",
        "print('accuracy %s' % accuracy_score(pred, test.target))\n",
        "print(classification_report(pred, test.target))"
      ],
      "execution_count": 0,
      "outputs": [
        {
          "output_type": "stream",
          "text": [
            "accuracy 0.04965480616038237\n",
            "              precision    recall  f1-score   support\n",
            "\n",
            "           0       0.07      0.07      0.07       313\n",
            "           1       0.05      0.05      0.05       405\n",
            "           2       0.05      0.05      0.05       415\n",
            "           3       0.06      0.06      0.06       397\n",
            "           4       0.04      0.04      0.04       393\n",
            "           5       0.05      0.05      0.05       404\n",
            "           6       0.06      0.06      0.06       398\n",
            "           7       0.05      0.05      0.05       383\n",
            "           8       0.05      0.05      0.05       405\n",
            "           9       0.07      0.06      0.06       407\n",
            "          10       0.05      0.05      0.05       387\n",
            "          11       0.05      0.05      0.05       390\n",
            "          12       0.04      0.04      0.04       402\n",
            "          13       0.06      0.05      0.06       401\n",
            "          14       0.05      0.05      0.05       372\n",
            "          15       0.05      0.05      0.05       409\n",
            "          16       0.04      0.04      0.04       362\n",
            "          17       0.04      0.04      0.04       375\n",
            "          18       0.04      0.04      0.04       297\n",
            "          19       0.03      0.04      0.03       217\n",
            "\n",
            "   micro avg       0.05      0.05      0.05      7532\n",
            "   macro avg       0.05      0.05      0.05      7532\n",
            "weighted avg       0.05      0.05      0.05      7532\n",
            "\n"
          ],
          "name": "stdout"
        }
      ]
    },
    {
      "metadata": {
        "id": "ab189Q5N5wCO",
        "colab_type": "code",
        "colab": {}
      },
      "cell_type": "code",
      "source": [
        "# https://github.com/hsd31196/Twitter-Sentiment-Analysis/blob/master/twitter_sentiment_analysis.ipynb harsh"
      ],
      "execution_count": 0,
      "outputs": []
    },
    {
      "metadata": {
        "id": "z279MsUJ6KHu",
        "colab_type": "code",
        "colab": {}
      },
      "cell_type": "code",
      "source": [
        ""
      ],
      "execution_count": 0,
      "outputs": []
    }
  ]
}