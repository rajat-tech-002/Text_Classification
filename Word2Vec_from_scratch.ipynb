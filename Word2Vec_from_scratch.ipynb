{
  "nbformat": 4,
  "nbformat_minor": 0,
  "metadata": {
    "colab": {
      "name": "Word2Vec_from_scratch.ipynb",
      "version": "0.3.2",
      "provenance": [],
      "toc_visible": true
    },
    "language_info": {
      "codemirror_mode": {
        "name": "ipython",
        "version": 3
      },
      "file_extension": ".py",
      "mimetype": "text/x-python",
      "name": "python",
      "nbconvert_exporter": "python",
      "pygments_lexer": "ipython3",
      "version": "3.7.1"
    },
    "kernelspec": {
      "display_name": "Python 3",
      "language": "python",
      "name": "python3"
    }
  },
  "cells": [
    {
      "metadata": {
        "id": "9bSRtTzl7JfB",
        "colab_type": "code",
        "colab": {}
      },
      "cell_type": "code",
      "source": [
        "import numpy as np\n",
        "from collections import defaultdict"
      ],
      "execution_count": 0,
      "outputs": []
    },
    {
      "metadata": {
        "id": "PesG4pYI7JfI",
        "colab_type": "code",
        "colab": {}
      },
      "cell_type": "code",
      "source": [
        "class Word2Vec:\n",
        "    def __init__(self,epochs):\n",
        "        self.n = 15\n",
        "        self.epochs = epochs\n",
        "        self.learning_rate = 0.01\n",
        "        self.window = 3\n",
        "    \n",
        "    def prep_training_data(self,corpus):\n",
        "        self.word_count = defaultdict(int)\n",
        "        for row in corpus:\n",
        "            tokens = row.split()\n",
        "            for word in tokens:\n",
        "                self.word_count[word]  += 1\n",
        "        \n",
        "        self.vocab_count = len(self.word_count.keys())\n",
        "        self.word_list = sorted(self.word_count.keys(),reverse=False)\n",
        "        self.word_index = dict((word,i) for word,i in enumerate(self.word_list))\n",
        "        self.index_word = dict((i,word) for word,i in enumerate(self.word_list))\n",
        "        \n",
        "        training_data = []\n",
        "        \n",
        "        for row in corpus:\n",
        "            tokens = row.split()\n",
        "            sentence_length = len(tokens)\n",
        "            for i,word in enumerate(tokens):\n",
        "                word_target = self.onehotvector(word)\n",
        "                word_context = []\n",
        "                for j in range(i-self.window,i+self.window+1):\n",
        "                    if j!=i and j<sentence_length-1 and j>=0:\n",
        "                        word_context.append(self.onehotvector(tokens[j]))\n",
        "                training_data.append([word_target,word_context])\n",
        "        return training_data,self.word_list\n",
        "        \n",
        "    \n",
        "    def forward(self,x):\n",
        "        h = np.dot(self.w1.T,x)\n",
        "        u_c = np.dot(self.w2.T,h)\n",
        "        y = self.softmax(u_c)\n",
        "        return y,u_c,h\n",
        "    \n",
        "    def backward(self,e,h,x):\n",
        "        dl_w1 = np.outer(h,e)\n",
        "        dl_w2 = np.outer(x,np.dot(self.w2,e.T))\n",
        "        self.w1 = self.w1 - (self.learning_rate * dl_w1)\n",
        "        self.w2 = self.w2 - (self.learning_rate * dl_w2)\n",
        "        pass\n",
        "\n",
        "    \n",
        "    def softmax(self,x):\n",
        "        exp = np.exp(x - np.max(x))\n",
        "        return exp/exp.sum(axis=0)\n",
        "    \n",
        "        \n",
        "    def train(self,training_data):\n",
        "        self.w1 = np.random.uniform(-0.8,0.8,(self.vocab_count,self.n))\n",
        "        self.w2 = np.random.uniform(-0.8,0.8,(self.n,self.vocab_count))\n",
        "        \n",
        "        for i in range(0,self.epochs):\n",
        "            self.loss = 0\n",
        "            for word_target,word_context in training_data:\n",
        "                y_pred,u_c,h = self.forward(word_target)\n",
        "                EI = np.sum([np.subtract(y_pred,word) for word in word_context],axis=0)\n",
        "                self.backward(EI,h,word_target)\n",
        "                self.loss += -np.sum([u_c[word.index(1)] for word in word_context]) + len(word_context) * np.log(np.sum(np.exp(u_c)))\n",
        "            print(\"Epoch:\",i,\"Loss:\",self.loss)\n",
        "        pass\n",
        "        \n",
        "    def onehotvector(self,word):\n",
        "        word_vec = [0 for i in range(0,self.vocab_count)]\n",
        "        index = self.index_word[word]\n",
        "        word_vec[index] = 1\n",
        "        return word_vec\n",
        "        \n",
        "    def word_vector(self,word):\n",
        "        w_index = self.index_word[word]\n",
        "        vector = self.w1[w_index]\n",
        "        return vector\n",
        "    \n",
        "    def display_onehot(self):\n",
        "        display_list = {}\n",
        "        for word in self.word_list:\n",
        "            one_hot_word = self.onehotvector(word)\n",
        "            display_list[word] = one_hot_word\n",
        "        return display_list\n",
        "        \n",
        "    \n",
        "    def word_sim(self,word,topn):\n",
        "        word_similarity = {}\n",
        "        index = self.index_word[word]\n",
        "        vector1 = self.w1[index]\n",
        "        for i in range(self.vocab_count):\n",
        "            vector2 = self.w1[i]\n",
        "            dot_pdt = np.dot(vector1,vector2)\n",
        "            magnitude = np.linalg.norm(vector1) * np.linalg.norm(vector2)\n",
        "            similarity = dot_pdt/magnitude\n",
        "            word_similarity[self.word_index[i]] = similarity\n",
        "        sim_words = sorted(word_similarity.items(),key=lambda word :word[1],reverse=True)\n",
        "        print(sim_words[:topn])"
      ],
      "execution_count": 0,
      "outputs": []
    },
    {
      "metadata": {
        "id": "E6W8LpQS7JfN",
        "colab_type": "code",
        "colab": {
          "base_uri": "https://localhost:8080/",
          "height": 152
        },
        "outputId": "84a752a3-d435-42f6-a148-d69a40150aeb"
      },
      "cell_type": "code",
      "source": [
        "corpus = [\n",
        "    'he is a king',\n",
        "    'she is a queen',\n",
        "    'he is a man',\n",
        "    'she is a woman',\n",
        "    'warsaw is poland capital',\n",
        "    'berlin is germany capital',\n",
        "    'paris is france capital',\n",
        "]\n",
        "\n",
        "word2vec = Word2Vec(8)\n",
        "training_data,word_list = word2vec.prep_training_data(corpus)\n",
        "word2vec.train(training_data)"
      ],
      "execution_count": 4,
      "outputs": [
        {
          "output_type": "stream",
          "text": [
            "Epoch: 0 Loss: 175.30514012989875\n",
            "Epoch: 1 Loss: 174.69866547992837\n",
            "Epoch: 2 Loss: 174.23252170019964\n",
            "Epoch: 3 Loss: 173.89205487148124\n",
            "Epoch: 4 Loss: 173.66686427450838\n",
            "Epoch: 5 Loss: 173.5499277269982\n",
            "Epoch: 6 Loss: 173.53700875284775\n",
            "Epoch: 7 Loss: 173.6262662982898\n"
          ],
          "name": "stdout"
        }
      ]
    },
    {
      "metadata": {
        "id": "tD2QtzQL7JfV",
        "colab_type": "text"
      },
      "cell_type": "markdown",
      "source": [
        "### One hot encoded vectors"
      ]
    },
    {
      "metadata": {
        "id": "oUPe8KeP7JfX",
        "colab_type": "code",
        "colab": {
          "base_uri": "https://localhost:8080/",
          "height": 90
        },
        "outputId": "28749fd7-4076-4516-afa0-bb3513bb386c"
      },
      "cell_type": "code",
      "source": [
        "print(\"Sample of training data:\",training_data[0:3])\n",
        "print(\"\\nVocabulary:\",word_list)"
      ],
      "execution_count": 5,
      "outputs": [
        {
          "output_type": "stream",
          "text": [
            "Sample of training data: [[[0, 0, 0, 0, 0, 1, 0, 0, 0, 0, 0, 0, 0, 0, 0], [[0, 0, 0, 0, 0, 0, 1, 0, 0, 0, 0, 0, 0, 0, 0], [1, 0, 0, 0, 0, 0, 0, 0, 0, 0, 0, 0, 0, 0, 0]]], [[0, 0, 0, 0, 0, 0, 1, 0, 0, 0, 0, 0, 0, 0, 0], [[0, 0, 0, 0, 0, 1, 0, 0, 0, 0, 0, 0, 0, 0, 0], [1, 0, 0, 0, 0, 0, 0, 0, 0, 0, 0, 0, 0, 0, 0]]], [[1, 0, 0, 0, 0, 0, 0, 0, 0, 0, 0, 0, 0, 0, 0], [[0, 0, 0, 0, 0, 1, 0, 0, 0, 0, 0, 0, 0, 0, 0], [0, 0, 0, 0, 0, 0, 1, 0, 0, 0, 0, 0, 0, 0, 0]]]]\n",
            "\n",
            "Vocabulary: ['a', 'berlin', 'capital', 'france', 'germany', 'he', 'is', 'king', 'man', 'paris', 'poland', 'queen', 'she', 'warsaw', 'woman']\n"
          ],
          "name": "stdout"
        }
      ]
    },
    {
      "metadata": {
        "id": "QXFPZJrk7Jfd",
        "colab_type": "code",
        "colab": {
          "base_uri": "https://localhost:8080/",
          "height": 272
        },
        "outputId": "2150a868-2de2-4511-b9ea-228451afa527"
      },
      "cell_type": "code",
      "source": [
        "#Representation of vocabulary as one hot encoded vector\n",
        "word2vec.display_onehot()"
      ],
      "execution_count": 6,
      "outputs": [
        {
          "output_type": "execute_result",
          "data": {
            "text/plain": [
              "{'a': [1, 0, 0, 0, 0, 0, 0, 0, 0, 0, 0, 0, 0, 0, 0],\n",
              " 'berlin': [0, 1, 0, 0, 0, 0, 0, 0, 0, 0, 0, 0, 0, 0, 0],\n",
              " 'capital': [0, 0, 1, 0, 0, 0, 0, 0, 0, 0, 0, 0, 0, 0, 0],\n",
              " 'france': [0, 0, 0, 1, 0, 0, 0, 0, 0, 0, 0, 0, 0, 0, 0],\n",
              " 'germany': [0, 0, 0, 0, 1, 0, 0, 0, 0, 0, 0, 0, 0, 0, 0],\n",
              " 'he': [0, 0, 0, 0, 0, 1, 0, 0, 0, 0, 0, 0, 0, 0, 0],\n",
              " 'is': [0, 0, 0, 0, 0, 0, 1, 0, 0, 0, 0, 0, 0, 0, 0],\n",
              " 'king': [0, 0, 0, 0, 0, 0, 0, 1, 0, 0, 0, 0, 0, 0, 0],\n",
              " 'man': [0, 0, 0, 0, 0, 0, 0, 0, 1, 0, 0, 0, 0, 0, 0],\n",
              " 'paris': [0, 0, 0, 0, 0, 0, 0, 0, 0, 1, 0, 0, 0, 0, 0],\n",
              " 'poland': [0, 0, 0, 0, 0, 0, 0, 0, 0, 0, 1, 0, 0, 0, 0],\n",
              " 'queen': [0, 0, 0, 0, 0, 0, 0, 0, 0, 0, 0, 1, 0, 0, 0],\n",
              " 'she': [0, 0, 0, 0, 0, 0, 0, 0, 0, 0, 0, 0, 1, 0, 0],\n",
              " 'warsaw': [0, 0, 0, 0, 0, 0, 0, 0, 0, 0, 0, 0, 0, 1, 0],\n",
              " 'woman': [0, 0, 0, 0, 0, 0, 0, 0, 0, 0, 0, 0, 0, 0, 1]}"
            ]
          },
          "metadata": {
            "tags": []
          },
          "execution_count": 6
        }
      ]
    },
    {
      "metadata": {
        "id": "o8PPEjZu7Jfk",
        "colab_type": "text"
      },
      "cell_type": "markdown",
      "source": [
        "### Find similar words"
      ]
    },
    {
      "metadata": {
        "id": "RWTeT0Td7Jfm",
        "colab_type": "code",
        "colab": {
          "base_uri": "https://localhost:8080/",
          "height": 33
        },
        "outputId": "3fa30cff-c8f3-458e-d475-da3c571794d1"
      },
      "cell_type": "code",
      "source": [
        "#word2vec.word_vector('he')\n",
        "word2vec.word_sim('capital',3)"
      ],
      "execution_count": 7,
      "outputs": [
        {
          "output_type": "stream",
          "text": [
            "[('capital', 1.0000000000000002), ('germany', 0.4793138889758929), ('woman', 0.2613962270962048)]\n"
          ],
          "name": "stdout"
        }
      ]
    },
    {
      "metadata": {
        "id": "4t93XZx47Jfs",
        "colab_type": "text"
      },
      "cell_type": "markdown",
      "source": [
        "### Using gensim for word2vec"
      ]
    },
    {
      "metadata": {
        "id": "-UUjp-KS7Jfu",
        "colab_type": "code",
        "colab": {
          "base_uri": "https://localhost:8080/",
          "height": 33
        },
        "outputId": "ad0725de-fe9e-4e2d-e7fa-18442da179df"
      },
      "cell_type": "code",
      "source": [
        "from gensim.test.utils import common_texts\n",
        "from gensim.models import Word2Vec\n",
        "from matplotlib import pyplot"
      ],
      "execution_count": 8,
      "outputs": [
        {
          "output_type": "stream",
          "text": [
            "paramiko missing, opening SSH/SCP/SFTP paths will be disabled.  `pip install paramiko` to suppress\n"
          ],
          "name": "stderr"
        }
      ]
    },
    {
      "metadata": {
        "id": "ae_hjTEt7Jfz",
        "colab_type": "code",
        "colab": {
          "base_uri": "https://localhost:8080/",
          "height": 176
        },
        "outputId": "fcd70cc5-66a9-4ba4-cee6-f42d259c3d5c"
      },
      "cell_type": "code",
      "source": [
        "common_texts"
      ],
      "execution_count": 9,
      "outputs": [
        {
          "output_type": "execute_result",
          "data": {
            "text/plain": [
              "[['human', 'interface', 'computer'],\n",
              " ['survey', 'user', 'computer', 'system', 'response', 'time'],\n",
              " ['eps', 'user', 'interface', 'system'],\n",
              " ['system', 'human', 'system', 'eps'],\n",
              " ['user', 'response', 'time'],\n",
              " ['trees'],\n",
              " ['graph', 'trees'],\n",
              " ['graph', 'minors', 'trees'],\n",
              " ['graph', 'minors', 'survey']]"
            ]
          },
          "metadata": {
            "tags": []
          },
          "execution_count": 9
        }
      ]
    },
    {
      "metadata": {
        "id": "5xPQdXeu7Jf4",
        "colab_type": "code",
        "colab": {}
      },
      "cell_type": "code",
      "source": [
        "model = Word2Vec(common_texts,size=100,window=5,sg=1,min_count=1,alpha=0.025)\n",
        "# input: common_texts\n",
        "# size: dimension of vector\n",
        "# window: size of window\n",
        "# sg: 1 for skip gram, 0 for cbow\n",
        "# min_count: specify the minimum frequency of words that should be considered\n",
        "# alpha: learning rate"
      ],
      "execution_count": 0,
      "outputs": []
    },
    {
      "metadata": {
        "id": "SHbmLapE7Jf6",
        "colab_type": "text"
      },
      "cell_type": "markdown",
      "source": [
        "### List of words in vocab"
      ]
    },
    {
      "metadata": {
        "id": "O4Uac3MQ7Jf6",
        "colab_type": "code",
        "colab": {
          "base_uri": "https://localhost:8080/",
          "height": 230
        },
        "outputId": "9fb471c4-9563-4d08-88b5-f961931502e8"
      },
      "cell_type": "code",
      "source": [
        "list(model.wv.vocab)"
      ],
      "execution_count": 11,
      "outputs": [
        {
          "output_type": "execute_result",
          "data": {
            "text/plain": [
              "['human',\n",
              " 'interface',\n",
              " 'computer',\n",
              " 'survey',\n",
              " 'user',\n",
              " 'system',\n",
              " 'response',\n",
              " 'time',\n",
              " 'eps',\n",
              " 'trees',\n",
              " 'graph',\n",
              " 'minors']"
            ]
          },
          "metadata": {
            "tags": []
          },
          "execution_count": 11
        }
      ]
    },
    {
      "metadata": {
        "id": "SAoh4JLV7nG6",
        "colab_type": "code",
        "colab": {
          "base_uri": "https://localhost:8080/",
          "height": 423
        },
        "outputId": "e7b9351f-92b2-4838-c93e-453e55cdaac2"
      },
      "cell_type": "code",
      "source": [
        "print(list(model.wv.vocab)[0],vectors[0])"
      ],
      "execution_count": 13,
      "outputs": [
        {
          "output_type": "stream",
          "text": [
            "human [-8.4078533e-04  7.3818484e-04  2.8219493e-04 -2.5752909e-03\n",
            "  3.1461527e-03  4.2359149e-03  3.7395945e-05  2.4014621e-03\n",
            " -1.6622512e-03  4.4716941e-03 -4.0361248e-03  9.4162242e-04\n",
            "  1.8091237e-03  4.4012014e-03 -4.4064531e-03 -4.2356872e-03\n",
            " -2.5811817e-03  8.6736411e-04  1.7827799e-04  1.6309498e-03\n",
            "  3.8797068e-03 -2.9843773e-03  4.3783961e-03  4.8892866e-03\n",
            "  4.0653595e-03  4.6112523e-03  4.4137607e-03 -3.5070870e-03\n",
            " -1.4383691e-04  3.5296250e-03 -4.3766564e-03 -2.6324235e-03\n",
            "  4.6682917e-03  4.5868112e-03 -4.0839841e-03 -3.9637261e-03\n",
            "  4.0467991e-03 -1.0017374e-03 -4.0663057e-03 -3.2315750e-03\n",
            "  3.3967344e-03  1.8175585e-03  3.0093880e-03  4.4311779e-03\n",
            " -2.8737427e-03 -2.3823194e-03  1.9071057e-03  2.2540952e-03\n",
            "  2.1133767e-03  1.4397701e-03 -7.7868404e-04  3.2279287e-03\n",
            " -2.7105834e-03  4.0984307e-03  7.6502300e-04 -7.7057688e-04\n",
            "  2.8253566e-03 -1.7193158e-03 -3.8816449e-03 -4.6067848e-04\n",
            "  2.1390640e-03  2.7580806e-03  3.9993748e-03 -2.9359162e-03\n",
            "  4.0492630e-03  9.6159801e-04  1.6280661e-03 -9.8146638e-04\n",
            " -3.2276535e-04 -2.9701849e-03  3.2383155e-03  3.4850864e-03\n",
            "  6.8289420e-04 -1.3444131e-03  2.6454008e-04  4.0746983e-03\n",
            " -3.0321949e-03 -2.4181413e-03 -4.6005119e-03 -6.6446740e-04\n",
            "  4.5393505e-03 -4.0080072e-03 -1.7750495e-03 -2.7159899e-03\n",
            " -3.5063007e-03  3.0198190e-03 -1.7150115e-03 -6.5944466e-04\n",
            "  2.8058651e-03  2.1529086e-03  9.0665935e-04  8.6159905e-04\n",
            " -4.9906229e-03 -2.3361051e-03  3.0944489e-03  2.5105607e-03\n",
            "  3.0972862e-03  6.8646501e-04  4.8388657e-03  4.3348838e-03]\n"
          ],
          "name": "stdout"
        }
      ]
    },
    {
      "metadata": {
        "id": "VbkFWzR27ncr",
        "colab_type": "code",
        "colab": {}
      },
      "cell_type": "code",
      "source": [
        ""
      ],
      "execution_count": 0,
      "outputs": []
    }
  ]
}